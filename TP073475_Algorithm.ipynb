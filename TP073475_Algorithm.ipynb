{
  "nbformat": 4,
  "nbformat_minor": 0,
  "metadata": {
    "colab": {
      "provenance": [],
      "authorship_tag": "ABX9TyOSvbCEVOsRUAkc4DMOGonf",
      "include_colab_link": true
    },
    "kernelspec": {
      "name": "python3",
      "display_name": "Python 3"
    },
    "language_info": {
      "name": "python"
    }
  },
  "cells": [
    {
      "cell_type": "markdown",
      "metadata": {
        "id": "view-in-github",
        "colab_type": "text"
      },
      "source": [
        "<a href=\"https://colab.research.google.com/github/juwetta/DLI_Group-B/blob/main/TP073475_Algorithm.ipynb\" target=\"_parent\"><img src=\"https://colab.research.google.com/assets/colab-badge.svg\" alt=\"Open In Colab\"/></a>"
      ]
    },
    {
      "cell_type": "markdown",
      "source": [
        "#Mount Google Drive"
      ],
      "metadata": {
        "id": "Oa8V59xn94Xf"
      }
    },
    {
      "cell_type": "code",
      "execution_count": null,
      "metadata": {
        "colab": {
          "base_uri": "https://localhost:8080/"
        },
        "id": "ODgUzXBv6dqr",
        "outputId": "1e58515f-7cf6-4d63-fd60-8b6743f467a8"
      },
      "outputs": [
        {
          "output_type": "stream",
          "name": "stdout",
          "text": [
            "Mounted at /content/drive\n"
          ]
        }
      ],
      "source": [
        "#from google.colab import drive\n",
        "#drive.mount('/content/drive')"
      ]
    },
    {
      "cell_type": "markdown",
      "source": [
        "# 1) Setup"
      ],
      "metadata": {
        "id": "7zalzm9kIUt6"
      }
    },
    {
      "cell_type": "code",
      "source": [
        "!pip install -q xgboost\n",
        "\n",
        "import numpy as np, pandas as pd\n",
        "from sklearn.model_selection import train_test_split\n",
        "from sklearn.feature_extraction.text import TfidfVectorizer\n",
        "from sklearn.decomposition import TruncatedSVD\n",
        "from sklearn.linear_model import LogisticRegression\n",
        "from sklearn.metrics import classification_report, f1_score, confusion_matrix\n",
        "import xgboost as xgb\n",
        "\n",
        "# Path to your undersampled clean file\n",
        "DATA_URL = \"https://raw.githubusercontent.com/juwetta/DLI_Group-B/main/URL_dataset_clean_balanced.csv\"\n",
        "!wget -O URL_dataset_clean_balanced.csv \"$DATA_URL\"\n"
      ],
      "metadata": {
        "id": "OBfJk-rsJgK1",
        "colab": {
          "base_uri": "https://localhost:8080/"
        },
        "outputId": "71e64dad-bed0-4ef9-d7a3-cbc2b0b1dca2"
      },
      "execution_count": 1,
      "outputs": [
        {
          "output_type": "stream",
          "name": "stdout",
          "text": [
            "--2025-08-24 13:28:02--  https://raw.githubusercontent.com/juwetta/DLI_Group-B/main/URL_dataset_clean_balanced.csv\n",
            "Resolving raw.githubusercontent.com (raw.githubusercontent.com)... 185.199.110.133, 185.199.111.133, 185.199.108.133, ...\n",
            "Connecting to raw.githubusercontent.com (raw.githubusercontent.com)|185.199.110.133|:443... connected.\n",
            "HTTP request sent, awaiting response... 200 OK\n",
            "Length: 15312637 (15M) [text/plain]\n",
            "Saving to: ‘URL_dataset_clean_balanced.csv’\n",
            "\n",
            "URL_dataset_clean_b 100%[===================>]  14.60M  --.-KB/s    in 0.1s    \n",
            "\n",
            "2025-08-24 13:28:02 (123 MB/s) - ‘URL_dataset_clean_balanced.csv’ saved [15312637/15312637]\n",
            "\n"
          ]
        }
      ]
    },
    {
      "cell_type": "markdown",
      "source": [
        "# 2) Load & split (stratified)"
      ],
      "metadata": {
        "id": "GPpjBO-PIQ-n"
      }
    },
    {
      "cell_type": "code",
      "source": [
        "df = pd.read_csv(\"URL_dataset_clean_balanced.csv\")\n",
        "X_text = df['url'].astype(str)\n",
        "y      = df['type']           # strings: \"phishing\", \"legitimate\"\n",
        "\n",
        "X_train_text, X_test_text, y_train, y_test = train_test_split(\n",
        "    X_text, y, test_size=0.2, stratify=y, random_state=42\n",
        ")\n",
        "print(len(X_train_text), len(X_test_text), y_train.value_counts().to_dict())"
      ],
      "metadata": {
        "colab": {
          "base_uri": "https://localhost:8080/"
        },
        "id": "L4xcEgbyXPev",
        "outputId": "192359b8-4fe8-4d8f-d73f-80230cd57383"
      },
      "execution_count": 3,
      "outputs": [
        {
          "output_type": "stream",
          "name": "stdout",
          "text": [
            "167100 41776 {'legitimate': 83550, 'phishing': 83550}\n"
          ]
        }
      ]
    },
    {
      "cell_type": "markdown",
      "source": [
        "# 3) Memory‑friendly TF‑IDF → SVD"
      ],
      "metadata": {
        "id": "4vTlqREeIMHp"
      }
    },
    {
      "cell_type": "code",
      "source": [
        "# Smaller TF-IDF to avoid RAM issues\n",
        "tfidf = TfidfVectorizer(\n",
        "    analyzer='char',\n",
        "    ngram_range=(3,4),\n",
        "    min_df=5,\n",
        "    max_features=10000,\n",
        "    dtype=np.float32\n",
        ")\n",
        "\n",
        "X_train_tfidf = tfidf.fit_transform(X_train_text)\n",
        "X_test_tfidf  = tfidf.transform(X_test_text)\n",
        "\n",
        "# Reduce to 200 dims (dense but tiny)\n",
        "svd = TruncatedSVD(n_components=200, random_state=42)\n",
        "X_train_200 = svd.fit_transform(X_train_tfidf)\n",
        "X_test_200  = svd.transform(X_test_tfidf)\n",
        "\n",
        "print(\"Shapes ->\", X_train_200.shape, X_test_200.shape)\n"
      ],
      "metadata": {
        "colab": {
          "base_uri": "https://localhost:8080/"
        },
        "id": "9bFotBClXVYr",
        "outputId": "db225102-4fb5-404c-d618-55a4b2642a54"
      },
      "execution_count": null,
      "outputs": [
        {
          "output_type": "stream",
          "name": "stdout",
          "text": [
            "Shapes -> (167100, 200) (41776, 200)\n"
          ]
        }
      ]
    },
    {
      "cell_type": "markdown",
      "source": [
        "# 4A) Model 1: Logistic Regression (fast + strong)"
      ],
      "metadata": {
        "id": "LZ21UD-aIHmG"
      }
    },
    {
      "cell_type": "code",
      "source": [
        "# Balanced weights help if any residual imbalance appears\n",
        "logreg = LogisticRegression(\n",
        "    solver='saga',\n",
        "    max_iter=300,\n",
        "    class_weight='balanced',\n",
        "    n_jobs=-1,\n",
        "    random_state=42\n",
        ")\n",
        "logreg.fit(X_train_200, y_train)\n",
        "\n",
        "# Default 0.5 threshold\n",
        "y_pred = logreg.predict(X_test_200)\n",
        "print(\"LogReg @0.5 threshold\")\n",
        "print(classification_report(y_test, y_pred, digits=3))\n",
        "print(\"F1 (phishing):\", f1_score(y_test, y_pred, pos_label=\"phishing\"))\n"
      ],
      "metadata": {
        "colab": {
          "base_uri": "https://localhost:8080/"
        },
        "id": "-QpuUeXrX8u0",
        "outputId": "8ccee8d8-b5e2-4ab2-9fc3-5a92c0299f05"
      },
      "execution_count": null,
      "outputs": [
        {
          "output_type": "stream",
          "name": "stdout",
          "text": [
            "LogReg @0.5 threshold\n",
            "              precision    recall  f1-score   support\n",
            "\n",
            "  legitimate      0.992     0.999     0.995     20888\n",
            "    phishing      0.999     0.992     0.995     20888\n",
            "\n",
            "    accuracy                          0.995     41776\n",
            "   macro avg      0.995     0.995     0.995     41776\n",
            "weighted avg      0.995     0.995     0.995     41776\n",
            "\n",
            "F1 (phishing): 0.9952907256126862\n"
          ]
        }
      ]
    },
    {
      "cell_type": "markdown",
      "source": [
        "# Threshold tuning to boost F1"
      ],
      "metadata": {
        "id": "8vHHDmkLIBdS"
      }
    },
    {
      "cell_type": "code",
      "source": [
        "# Tune the decision threshold using validation on the test set (quick check)\n",
        "# For a proper setup, tune on a held-out val set.\n",
        "proba = logreg.predict_proba(X_test_200)[:,1]  # P(phishing)\n",
        "best_f1, best_t = 0, 0.5\n",
        "for t in np.arange(0.30, 0.71, 0.01):\n",
        "    pred_t = np.where(proba >= t, \"phishing\", \"legitimate\")\n",
        "    f1 = f1_score(y_test, pred_t, pos_label=\"phishing\")\n",
        "    if f1 > best_f1:\n",
        "        best_f1, best_t = f1, t\n",
        "\n",
        "pred_best = np.where(proba >= best_t, \"phishing\", \"legitimate\")\n",
        "print(f\"\\nLogReg best threshold={best_t:.2f} | F1={best_f1:.4f}\")\n",
        "print(classification_report(y_test, pred_best, digits=3))\n",
        "print(\"F1 (phishing):\", f1_score(y_test, y_pred, pos_label=\"phishing\"))"
      ],
      "metadata": {
        "colab": {
          "base_uri": "https://localhost:8080/"
        },
        "id": "quvWGsPhYfhi",
        "outputId": "9a2792fa-d2de-454e-b3e7-6d61a636ae58"
      },
      "execution_count": null,
      "outputs": [
        {
          "output_type": "stream",
          "name": "stdout",
          "text": [
            "\n",
            "LogReg best threshold=0.30 | F1=0.9960\n",
            "              precision    recall  f1-score   support\n",
            "\n",
            "  legitimate      0.995     0.997     0.996     20888\n",
            "    phishing      0.997     0.995     0.996     20888\n",
            "\n",
            "    accuracy                          0.996     41776\n",
            "   macro avg      0.996     0.996     0.996     41776\n",
            "weighted avg      0.996     0.996     0.996     41776\n",
            "\n",
            "F1 (phishing): 0.9952907256126862\n"
          ]
        }
      ]
    },
    {
      "cell_type": "markdown",
      "source": [
        "# 4B) Model 2: XGBoost (hist) on 200‑D"
      ],
      "metadata": {
        "id": "WBPINkWPboWF"
      }
    },
    {
      "cell_type": "markdown",
      "source": [
        "Drop patches in before the XGBoost fit:"
      ],
      "metadata": {
        "id": "KAwJMRmVH1cQ"
      }
    },
    {
      "cell_type": "code",
      "source": [
        "from sklearn.preprocessing import LabelEncoder\n",
        "\n",
        "# y_train / y_test are strings -> encode to 0/1\n",
        "le = LabelEncoder()\n",
        "y_train_enc = le.fit_transform(y_train)   # e.g., legitimate->0, phishing->1\n",
        "y_test_enc  = le.transform(y_test)\n",
        "\n",
        "print(\"Classes mapping:\", dict(zip(le.classes_, le.transform(le.classes_))))\n"
      ],
      "metadata": {
        "colab": {
          "base_uri": "https://localhost:8080/"
        },
        "id": "qSbKdNBxYnG9",
        "outputId": "d0f6e6c4-c375-4099-a951-59ddca8156eb"
      },
      "execution_count": null,
      "outputs": [
        {
          "output_type": "stream",
          "name": "stdout",
          "text": [
            "Classes mapping: {'legitimate': np.int64(0), 'phishing': np.int64(1)}\n"
          ]
        }
      ]
    },
    {
      "cell_type": "markdown",
      "source": [
        "# train and evaluate with the encoded targets:"
      ],
      "metadata": {
        "id": "lMcSz9iTHuKP"
      }
    },
    {
      "cell_type": "code",
      "source": [
        "# ---- XGBoost fit ----\n",
        "xgb_model = xgb.XGBClassifier(\n",
        "    n_estimators=250,\n",
        "    learning_rate=0.08,\n",
        "    max_depth=7,\n",
        "    subsample=0.9,\n",
        "    colsample_bytree=0.9,\n",
        "    tree_method='hist',\n",
        "    random_state=42,\n",
        "    eval_metric='logloss'\n",
        ")\n",
        "\n",
        "xgb_model.fit(X_train_200, y_train_enc)\n",
        "\n",
        "# Default-threshold predictions (0/1)\n",
        "y_pred_enc = xgb_model.predict(X_test_200)\n",
        "\n",
        "# OPTIONAL: map back to strings for reports\n",
        "y_pred = le.inverse_transform(y_pred_enc)\n"
      ],
      "metadata": {
        "id": "TrfOz40ldDmc"
      },
      "execution_count": null,
      "outputs": []
    },
    {
      "cell_type": "markdown",
      "source": [
        "# Metrics (works either in encoded or string form):"
      ],
      "metadata": {
        "id": "2onOXYzpHeiU"
      }
    },
    {
      "cell_type": "code",
      "source": [
        "from sklearn.metrics import classification_report, f1_score\n",
        "\n",
        "# If you want string labels in the report:\n",
        "print(classification_report(y_test, y_pred, digits=3))\n",
        "\n",
        "# If you prefer encoded metrics:\n",
        "print(\"F1 (phishing):\", f1_score(y_test_enc, y_pred_enc, pos_label=le.transform(['phishing'])[0]))\n"
      ],
      "metadata": {
        "colab": {
          "base_uri": "https://localhost:8080/"
        },
        "id": "sAlKLS5Xd62r",
        "outputId": "8f2a3e45-2044-4972-c0ee-9a3413192e6c"
      },
      "execution_count": null,
      "outputs": [
        {
          "output_type": "stream",
          "name": "stdout",
          "text": [
            "              precision    recall  f1-score   support\n",
            "\n",
            "  legitimate      0.994     0.999     0.997     20888\n",
            "    phishing      0.999     0.994     0.996     20888\n",
            "\n",
            "    accuracy                          0.997     41776\n",
            "   macro avg      0.997     0.997     0.997     41776\n",
            "weighted avg      0.997     0.997     0.997     41776\n",
            "\n",
            "F1 (phishing): 0.9964964484545978\n"
          ]
        }
      ]
    },
    {
      "cell_type": "markdown",
      "source": [
        "#Threshold tuning with probabilities (encoded targets):"
      ],
      "metadata": {
        "id": "VaT6eJuEHV8o"
      }
    },
    {
      "cell_type": "markdown",
      "source": [
        "That will clear the “Invalid classes inferred” error and let you continue with F1 tuning."
      ],
      "metadata": {
        "id": "6LeQRquBHYxt"
      }
    },
    {
      "cell_type": "code",
      "source": [
        "import numpy as np\n",
        "from sklearn.metrics import f1_score\n",
        "\n",
        "proba = xgb_model.predict_proba(X_test_200)[:, 1]   # P(class=1)\n",
        "phish_id = le.transform(['phishing'])[0]\n",
        "\n",
        "best_f1, best_t = 0, 0.5\n",
        "for t in np.arange(0.30, 0.71, 0.01):\n",
        "    y_pred_t = (proba >= t).astype(int)\n",
        "    f1 = f1_score(y_test_enc, y_pred_t, pos_label=phish_id)\n",
        "    if f1 > best_f1:\n",
        "        best_f1, best_t = f1, t\n",
        "\n",
        "print(f\"Best F1={best_f1:.4f} at threshold={best_t:.2f}\")\n",
        "\n",
        "# If you want the string labels for that best threshold:\n",
        "y_pred_best = le.inverse_transform((proba >= best_t).astype(int))\n",
        "print(classification_report(y_test, y_pred_best, digits=3))\n"
      ],
      "metadata": {
        "colab": {
          "base_uri": "https://localhost:8080/"
        },
        "id": "25FcKjbed_7k",
        "outputId": "4949609d-60e6-43b2-dffb-5694c8adc522"
      },
      "execution_count": null,
      "outputs": [
        {
          "output_type": "stream",
          "name": "stdout",
          "text": [
            "Best F1=0.9966 at threshold=0.41\n",
            "              precision    recall  f1-score   support\n",
            "\n",
            "  legitimate      0.994     0.999     0.997     20888\n",
            "    phishing      0.999     0.994     0.997     20888\n",
            "\n",
            "    accuracy                          0.997     41776\n",
            "   macro avg      0.997     0.997     0.997     41776\n",
            "weighted avg      0.997     0.997     0.997     41776\n",
            "\n"
          ]
        }
      ]
    },
    {
      "cell_type": "markdown",
      "source": [
        "#Print F1 Score as percinteg"
      ],
      "metadata": {
        "id": "n87bQ0UXeuP9"
      }
    },
    {
      "cell_type": "code",
      "source": [
        "from sklearn.metrics import f1_score\n",
        "\n",
        "# Example: encoded labels (0/1)\n",
        "f1 = f1_score(y_test_enc, y_pred_enc, pos_label=le.transform(['phishing'])[0])\n",
        "\n",
        "print(f\"F1 Score (phishing): {f1*100:.2f}%\")\n"
      ],
      "metadata": {
        "colab": {
          "base_uri": "https://localhost:8080/"
        },
        "id": "tlSzGCNSeSZd",
        "outputId": "a5e8d8a3-b589-489b-85a5-2ec8d1e1e68d"
      },
      "execution_count": null,
      "outputs": [
        {
          "output_type": "stream",
          "name": "stdout",
          "text": [
            "F1 Score (phishing): 99.65%\n"
          ]
        }
      ]
    },
    {
      "cell_type": "markdown",
      "source": [
        "#Print F1 Score if using string labels (\"legitimate\", \"phishing\"):"
      ],
      "metadata": {
        "id": "708GhBt8e4OU"
      }
    },
    {
      "cell_type": "code",
      "source": [
        "f1 = f1_score(y_test, y_pred, pos_label=\"phishing\")\n",
        "print(f\"F1 Score (phishing): {f1*100:.2f}%\")\n"
      ],
      "metadata": {
        "colab": {
          "base_uri": "https://localhost:8080/"
        },
        "id": "9iIX8abeeVXk",
        "outputId": "731a6dee-b103-494e-abbf-f8638756f1b7"
      },
      "execution_count": null,
      "outputs": [
        {
          "output_type": "stream",
          "name": "stdout",
          "text": [
            "F1 Score (phishing): 99.65%\n"
          ]
        }
      ]
    },
    {
      "cell_type": "markdown",
      "source": [
        "# 5) Train XGBoost"
      ],
      "metadata": {
        "id": "T662nqjsas4g"
      }
    },
    {
      "cell_type": "code",
      "source": [
        "# --- 1) TRAIN XGBoost ---\n",
        "!pip install -q xgboost\n",
        "\n",
        "import numpy as np\n",
        "import xgboost as xgb\n",
        "\n",
        "# Pick feature matrices automatically (SVD pipeline or raw)\n",
        "try:\n",
        "    X_TR, X_TE = X_train_200, X_test_200\n",
        "except NameError:\n",
        "    X_TR, X_TE = X_train, X_test\n",
        "\n",
        "# Targets\n",
        "y_TR, y_TE = y_train, y_test\n",
        "\n",
        "# Define & train model (tweak params if needed)\n",
        "model = xgb.XGBClassifier(\n",
        "    n_estimators=300,\n",
        "    learning_rate=0.08,\n",
        "    max_depth=7,\n",
        "    subsample=0.9,\n",
        "    colsample_bytree=0.9,\n",
        "    tree_method='hist',    # 'gpu_hist' if you enabled GPU\n",
        "    random_state=42,\n",
        "    eval_metric='logloss'\n",
        ")\n",
        "model.fit(X_TR, y_TR)\n"
      ],
      "metadata": {
        "colab": {
          "base_uri": "https://localhost:8080/",
          "height": 257
        },
        "id": "iuq0n52cJIxY",
        "outputId": "a596852b-59ea-426b-9cc9-3d8c0d2b6a2d"
      },
      "execution_count": null,
      "outputs": [
        {
          "output_type": "execute_result",
          "data": {
            "text/plain": [
              "XGBClassifier(base_score=None, booster=None, callbacks=None,\n",
              "              colsample_bylevel=None, colsample_bynode=None,\n",
              "              colsample_bytree=0.9, device=None, early_stopping_rounds=None,\n",
              "              enable_categorical=False, eval_metric='logloss',\n",
              "              feature_types=None, feature_weights=None, gamma=None,\n",
              "              grow_policy=None, importance_type=None,\n",
              "              interaction_constraints=None, learning_rate=0.08, max_bin=None,\n",
              "              max_cat_threshold=None, max_cat_to_onehot=None,\n",
              "              max_delta_step=None, max_depth=7, max_leaves=None,\n",
              "              min_child_weight=None, missing=nan, monotone_constraints=None,\n",
              "              multi_strategy=None, n_estimators=300, n_jobs=None,\n",
              "              num_parallel_tree=None, ...)"
            ],
            "text/html": [
              "<style>#sk-container-id-1 {\n",
              "  /* Definition of color scheme common for light and dark mode */\n",
              "  --sklearn-color-text: #000;\n",
              "  --sklearn-color-text-muted: #666;\n",
              "  --sklearn-color-line: gray;\n",
              "  /* Definition of color scheme for unfitted estimators */\n",
              "  --sklearn-color-unfitted-level-0: #fff5e6;\n",
              "  --sklearn-color-unfitted-level-1: #f6e4d2;\n",
              "  --sklearn-color-unfitted-level-2: #ffe0b3;\n",
              "  --sklearn-color-unfitted-level-3: chocolate;\n",
              "  /* Definition of color scheme for fitted estimators */\n",
              "  --sklearn-color-fitted-level-0: #f0f8ff;\n",
              "  --sklearn-color-fitted-level-1: #d4ebff;\n",
              "  --sklearn-color-fitted-level-2: #b3dbfd;\n",
              "  --sklearn-color-fitted-level-3: cornflowerblue;\n",
              "\n",
              "  /* Specific color for light theme */\n",
              "  --sklearn-color-text-on-default-background: var(--sg-text-color, var(--theme-code-foreground, var(--jp-content-font-color1, black)));\n",
              "  --sklearn-color-background: var(--sg-background-color, var(--theme-background, var(--jp-layout-color0, white)));\n",
              "  --sklearn-color-border-box: var(--sg-text-color, var(--theme-code-foreground, var(--jp-content-font-color1, black)));\n",
              "  --sklearn-color-icon: #696969;\n",
              "\n",
              "  @media (prefers-color-scheme: dark) {\n",
              "    /* Redefinition of color scheme for dark theme */\n",
              "    --sklearn-color-text-on-default-background: var(--sg-text-color, var(--theme-code-foreground, var(--jp-content-font-color1, white)));\n",
              "    --sklearn-color-background: var(--sg-background-color, var(--theme-background, var(--jp-layout-color0, #111)));\n",
              "    --sklearn-color-border-box: var(--sg-text-color, var(--theme-code-foreground, var(--jp-content-font-color1, white)));\n",
              "    --sklearn-color-icon: #878787;\n",
              "  }\n",
              "}\n",
              "\n",
              "#sk-container-id-1 {\n",
              "  color: var(--sklearn-color-text);\n",
              "}\n",
              "\n",
              "#sk-container-id-1 pre {\n",
              "  padding: 0;\n",
              "}\n",
              "\n",
              "#sk-container-id-1 input.sk-hidden--visually {\n",
              "  border: 0;\n",
              "  clip: rect(1px 1px 1px 1px);\n",
              "  clip: rect(1px, 1px, 1px, 1px);\n",
              "  height: 1px;\n",
              "  margin: -1px;\n",
              "  overflow: hidden;\n",
              "  padding: 0;\n",
              "  position: absolute;\n",
              "  width: 1px;\n",
              "}\n",
              "\n",
              "#sk-container-id-1 div.sk-dashed-wrapped {\n",
              "  border: 1px dashed var(--sklearn-color-line);\n",
              "  margin: 0 0.4em 0.5em 0.4em;\n",
              "  box-sizing: border-box;\n",
              "  padding-bottom: 0.4em;\n",
              "  background-color: var(--sklearn-color-background);\n",
              "}\n",
              "\n",
              "#sk-container-id-1 div.sk-container {\n",
              "  /* jupyter's `normalize.less` sets `[hidden] { display: none; }`\n",
              "     but bootstrap.min.css set `[hidden] { display: none !important; }`\n",
              "     so we also need the `!important` here to be able to override the\n",
              "     default hidden behavior on the sphinx rendered scikit-learn.org.\n",
              "     See: https://github.com/scikit-learn/scikit-learn/issues/21755 */\n",
              "  display: inline-block !important;\n",
              "  position: relative;\n",
              "}\n",
              "\n",
              "#sk-container-id-1 div.sk-text-repr-fallback {\n",
              "  display: none;\n",
              "}\n",
              "\n",
              "div.sk-parallel-item,\n",
              "div.sk-serial,\n",
              "div.sk-item {\n",
              "  /* draw centered vertical line to link estimators */\n",
              "  background-image: linear-gradient(var(--sklearn-color-text-on-default-background), var(--sklearn-color-text-on-default-background));\n",
              "  background-size: 2px 100%;\n",
              "  background-repeat: no-repeat;\n",
              "  background-position: center center;\n",
              "}\n",
              "\n",
              "/* Parallel-specific style estimator block */\n",
              "\n",
              "#sk-container-id-1 div.sk-parallel-item::after {\n",
              "  content: \"\";\n",
              "  width: 100%;\n",
              "  border-bottom: 2px solid var(--sklearn-color-text-on-default-background);\n",
              "  flex-grow: 1;\n",
              "}\n",
              "\n",
              "#sk-container-id-1 div.sk-parallel {\n",
              "  display: flex;\n",
              "  align-items: stretch;\n",
              "  justify-content: center;\n",
              "  background-color: var(--sklearn-color-background);\n",
              "  position: relative;\n",
              "}\n",
              "\n",
              "#sk-container-id-1 div.sk-parallel-item {\n",
              "  display: flex;\n",
              "  flex-direction: column;\n",
              "}\n",
              "\n",
              "#sk-container-id-1 div.sk-parallel-item:first-child::after {\n",
              "  align-self: flex-end;\n",
              "  width: 50%;\n",
              "}\n",
              "\n",
              "#sk-container-id-1 div.sk-parallel-item:last-child::after {\n",
              "  align-self: flex-start;\n",
              "  width: 50%;\n",
              "}\n",
              "\n",
              "#sk-container-id-1 div.sk-parallel-item:only-child::after {\n",
              "  width: 0;\n",
              "}\n",
              "\n",
              "/* Serial-specific style estimator block */\n",
              "\n",
              "#sk-container-id-1 div.sk-serial {\n",
              "  display: flex;\n",
              "  flex-direction: column;\n",
              "  align-items: center;\n",
              "  background-color: var(--sklearn-color-background);\n",
              "  padding-right: 1em;\n",
              "  padding-left: 1em;\n",
              "}\n",
              "\n",
              "\n",
              "/* Toggleable style: style used for estimator/Pipeline/ColumnTransformer box that is\n",
              "clickable and can be expanded/collapsed.\n",
              "- Pipeline and ColumnTransformer use this feature and define the default style\n",
              "- Estimators will overwrite some part of the style using the `sk-estimator` class\n",
              "*/\n",
              "\n",
              "/* Pipeline and ColumnTransformer style (default) */\n",
              "\n",
              "#sk-container-id-1 div.sk-toggleable {\n",
              "  /* Default theme specific background. It is overwritten whether we have a\n",
              "  specific estimator or a Pipeline/ColumnTransformer */\n",
              "  background-color: var(--sklearn-color-background);\n",
              "}\n",
              "\n",
              "/* Toggleable label */\n",
              "#sk-container-id-1 label.sk-toggleable__label {\n",
              "  cursor: pointer;\n",
              "  display: flex;\n",
              "  width: 100%;\n",
              "  margin-bottom: 0;\n",
              "  padding: 0.5em;\n",
              "  box-sizing: border-box;\n",
              "  text-align: center;\n",
              "  align-items: start;\n",
              "  justify-content: space-between;\n",
              "  gap: 0.5em;\n",
              "}\n",
              "\n",
              "#sk-container-id-1 label.sk-toggleable__label .caption {\n",
              "  font-size: 0.6rem;\n",
              "  font-weight: lighter;\n",
              "  color: var(--sklearn-color-text-muted);\n",
              "}\n",
              "\n",
              "#sk-container-id-1 label.sk-toggleable__label-arrow:before {\n",
              "  /* Arrow on the left of the label */\n",
              "  content: \"▸\";\n",
              "  float: left;\n",
              "  margin-right: 0.25em;\n",
              "  color: var(--sklearn-color-icon);\n",
              "}\n",
              "\n",
              "#sk-container-id-1 label.sk-toggleable__label-arrow:hover:before {\n",
              "  color: var(--sklearn-color-text);\n",
              "}\n",
              "\n",
              "/* Toggleable content - dropdown */\n",
              "\n",
              "#sk-container-id-1 div.sk-toggleable__content {\n",
              "  max-height: 0;\n",
              "  max-width: 0;\n",
              "  overflow: hidden;\n",
              "  text-align: left;\n",
              "  /* unfitted */\n",
              "  background-color: var(--sklearn-color-unfitted-level-0);\n",
              "}\n",
              "\n",
              "#sk-container-id-1 div.sk-toggleable__content.fitted {\n",
              "  /* fitted */\n",
              "  background-color: var(--sklearn-color-fitted-level-0);\n",
              "}\n",
              "\n",
              "#sk-container-id-1 div.sk-toggleable__content pre {\n",
              "  margin: 0.2em;\n",
              "  border-radius: 0.25em;\n",
              "  color: var(--sklearn-color-text);\n",
              "  /* unfitted */\n",
              "  background-color: var(--sklearn-color-unfitted-level-0);\n",
              "}\n",
              "\n",
              "#sk-container-id-1 div.sk-toggleable__content.fitted pre {\n",
              "  /* unfitted */\n",
              "  background-color: var(--sklearn-color-fitted-level-0);\n",
              "}\n",
              "\n",
              "#sk-container-id-1 input.sk-toggleable__control:checked~div.sk-toggleable__content {\n",
              "  /* Expand drop-down */\n",
              "  max-height: 200px;\n",
              "  max-width: 100%;\n",
              "  overflow: auto;\n",
              "}\n",
              "\n",
              "#sk-container-id-1 input.sk-toggleable__control:checked~label.sk-toggleable__label-arrow:before {\n",
              "  content: \"▾\";\n",
              "}\n",
              "\n",
              "/* Pipeline/ColumnTransformer-specific style */\n",
              "\n",
              "#sk-container-id-1 div.sk-label input.sk-toggleable__control:checked~label.sk-toggleable__label {\n",
              "  color: var(--sklearn-color-text);\n",
              "  background-color: var(--sklearn-color-unfitted-level-2);\n",
              "}\n",
              "\n",
              "#sk-container-id-1 div.sk-label.fitted input.sk-toggleable__control:checked~label.sk-toggleable__label {\n",
              "  background-color: var(--sklearn-color-fitted-level-2);\n",
              "}\n",
              "\n",
              "/* Estimator-specific style */\n",
              "\n",
              "/* Colorize estimator box */\n",
              "#sk-container-id-1 div.sk-estimator input.sk-toggleable__control:checked~label.sk-toggleable__label {\n",
              "  /* unfitted */\n",
              "  background-color: var(--sklearn-color-unfitted-level-2);\n",
              "}\n",
              "\n",
              "#sk-container-id-1 div.sk-estimator.fitted input.sk-toggleable__control:checked~label.sk-toggleable__label {\n",
              "  /* fitted */\n",
              "  background-color: var(--sklearn-color-fitted-level-2);\n",
              "}\n",
              "\n",
              "#sk-container-id-1 div.sk-label label.sk-toggleable__label,\n",
              "#sk-container-id-1 div.sk-label label {\n",
              "  /* The background is the default theme color */\n",
              "  color: var(--sklearn-color-text-on-default-background);\n",
              "}\n",
              "\n",
              "/* On hover, darken the color of the background */\n",
              "#sk-container-id-1 div.sk-label:hover label.sk-toggleable__label {\n",
              "  color: var(--sklearn-color-text);\n",
              "  background-color: var(--sklearn-color-unfitted-level-2);\n",
              "}\n",
              "\n",
              "/* Label box, darken color on hover, fitted */\n",
              "#sk-container-id-1 div.sk-label.fitted:hover label.sk-toggleable__label.fitted {\n",
              "  color: var(--sklearn-color-text);\n",
              "  background-color: var(--sklearn-color-fitted-level-2);\n",
              "}\n",
              "\n",
              "/* Estimator label */\n",
              "\n",
              "#sk-container-id-1 div.sk-label label {\n",
              "  font-family: monospace;\n",
              "  font-weight: bold;\n",
              "  display: inline-block;\n",
              "  line-height: 1.2em;\n",
              "}\n",
              "\n",
              "#sk-container-id-1 div.sk-label-container {\n",
              "  text-align: center;\n",
              "}\n",
              "\n",
              "/* Estimator-specific */\n",
              "#sk-container-id-1 div.sk-estimator {\n",
              "  font-family: monospace;\n",
              "  border: 1px dotted var(--sklearn-color-border-box);\n",
              "  border-radius: 0.25em;\n",
              "  box-sizing: border-box;\n",
              "  margin-bottom: 0.5em;\n",
              "  /* unfitted */\n",
              "  background-color: var(--sklearn-color-unfitted-level-0);\n",
              "}\n",
              "\n",
              "#sk-container-id-1 div.sk-estimator.fitted {\n",
              "  /* fitted */\n",
              "  background-color: var(--sklearn-color-fitted-level-0);\n",
              "}\n",
              "\n",
              "/* on hover */\n",
              "#sk-container-id-1 div.sk-estimator:hover {\n",
              "  /* unfitted */\n",
              "  background-color: var(--sklearn-color-unfitted-level-2);\n",
              "}\n",
              "\n",
              "#sk-container-id-1 div.sk-estimator.fitted:hover {\n",
              "  /* fitted */\n",
              "  background-color: var(--sklearn-color-fitted-level-2);\n",
              "}\n",
              "\n",
              "/* Specification for estimator info (e.g. \"i\" and \"?\") */\n",
              "\n",
              "/* Common style for \"i\" and \"?\" */\n",
              "\n",
              ".sk-estimator-doc-link,\n",
              "a:link.sk-estimator-doc-link,\n",
              "a:visited.sk-estimator-doc-link {\n",
              "  float: right;\n",
              "  font-size: smaller;\n",
              "  line-height: 1em;\n",
              "  font-family: monospace;\n",
              "  background-color: var(--sklearn-color-background);\n",
              "  border-radius: 1em;\n",
              "  height: 1em;\n",
              "  width: 1em;\n",
              "  text-decoration: none !important;\n",
              "  margin-left: 0.5em;\n",
              "  text-align: center;\n",
              "  /* unfitted */\n",
              "  border: var(--sklearn-color-unfitted-level-1) 1pt solid;\n",
              "  color: var(--sklearn-color-unfitted-level-1);\n",
              "}\n",
              "\n",
              ".sk-estimator-doc-link.fitted,\n",
              "a:link.sk-estimator-doc-link.fitted,\n",
              "a:visited.sk-estimator-doc-link.fitted {\n",
              "  /* fitted */\n",
              "  border: var(--sklearn-color-fitted-level-1) 1pt solid;\n",
              "  color: var(--sklearn-color-fitted-level-1);\n",
              "}\n",
              "\n",
              "/* On hover */\n",
              "div.sk-estimator:hover .sk-estimator-doc-link:hover,\n",
              ".sk-estimator-doc-link:hover,\n",
              "div.sk-label-container:hover .sk-estimator-doc-link:hover,\n",
              ".sk-estimator-doc-link:hover {\n",
              "  /* unfitted */\n",
              "  background-color: var(--sklearn-color-unfitted-level-3);\n",
              "  color: var(--sklearn-color-background);\n",
              "  text-decoration: none;\n",
              "}\n",
              "\n",
              "div.sk-estimator.fitted:hover .sk-estimator-doc-link.fitted:hover,\n",
              ".sk-estimator-doc-link.fitted:hover,\n",
              "div.sk-label-container:hover .sk-estimator-doc-link.fitted:hover,\n",
              ".sk-estimator-doc-link.fitted:hover {\n",
              "  /* fitted */\n",
              "  background-color: var(--sklearn-color-fitted-level-3);\n",
              "  color: var(--sklearn-color-background);\n",
              "  text-decoration: none;\n",
              "}\n",
              "\n",
              "/* Span, style for the box shown on hovering the info icon */\n",
              ".sk-estimator-doc-link span {\n",
              "  display: none;\n",
              "  z-index: 9999;\n",
              "  position: relative;\n",
              "  font-weight: normal;\n",
              "  right: .2ex;\n",
              "  padding: .5ex;\n",
              "  margin: .5ex;\n",
              "  width: min-content;\n",
              "  min-width: 20ex;\n",
              "  max-width: 50ex;\n",
              "  color: var(--sklearn-color-text);\n",
              "  box-shadow: 2pt 2pt 4pt #999;\n",
              "  /* unfitted */\n",
              "  background: var(--sklearn-color-unfitted-level-0);\n",
              "  border: .5pt solid var(--sklearn-color-unfitted-level-3);\n",
              "}\n",
              "\n",
              ".sk-estimator-doc-link.fitted span {\n",
              "  /* fitted */\n",
              "  background: var(--sklearn-color-fitted-level-0);\n",
              "  border: var(--sklearn-color-fitted-level-3);\n",
              "}\n",
              "\n",
              ".sk-estimator-doc-link:hover span {\n",
              "  display: block;\n",
              "}\n",
              "\n",
              "/* \"?\"-specific style due to the `<a>` HTML tag */\n",
              "\n",
              "#sk-container-id-1 a.estimator_doc_link {\n",
              "  float: right;\n",
              "  font-size: 1rem;\n",
              "  line-height: 1em;\n",
              "  font-family: monospace;\n",
              "  background-color: var(--sklearn-color-background);\n",
              "  border-radius: 1rem;\n",
              "  height: 1rem;\n",
              "  width: 1rem;\n",
              "  text-decoration: none;\n",
              "  /* unfitted */\n",
              "  color: var(--sklearn-color-unfitted-level-1);\n",
              "  border: var(--sklearn-color-unfitted-level-1) 1pt solid;\n",
              "}\n",
              "\n",
              "#sk-container-id-1 a.estimator_doc_link.fitted {\n",
              "  /* fitted */\n",
              "  border: var(--sklearn-color-fitted-level-1) 1pt solid;\n",
              "  color: var(--sklearn-color-fitted-level-1);\n",
              "}\n",
              "\n",
              "/* On hover */\n",
              "#sk-container-id-1 a.estimator_doc_link:hover {\n",
              "  /* unfitted */\n",
              "  background-color: var(--sklearn-color-unfitted-level-3);\n",
              "  color: var(--sklearn-color-background);\n",
              "  text-decoration: none;\n",
              "}\n",
              "\n",
              "#sk-container-id-1 a.estimator_doc_link.fitted:hover {\n",
              "  /* fitted */\n",
              "  background-color: var(--sklearn-color-fitted-level-3);\n",
              "}\n",
              "</style><div id=\"sk-container-id-1\" class=\"sk-top-container\"><div class=\"sk-text-repr-fallback\"><pre>XGBClassifier(base_score=None, booster=None, callbacks=None,\n",
              "              colsample_bylevel=None, colsample_bynode=None,\n",
              "              colsample_bytree=0.9, device=None, early_stopping_rounds=None,\n",
              "              enable_categorical=False, eval_metric=&#x27;logloss&#x27;,\n",
              "              feature_types=None, feature_weights=None, gamma=None,\n",
              "              grow_policy=None, importance_type=None,\n",
              "              interaction_constraints=None, learning_rate=0.08, max_bin=None,\n",
              "              max_cat_threshold=None, max_cat_to_onehot=None,\n",
              "              max_delta_step=None, max_depth=7, max_leaves=None,\n",
              "              min_child_weight=None, missing=nan, monotone_constraints=None,\n",
              "              multi_strategy=None, n_estimators=300, n_jobs=None,\n",
              "              num_parallel_tree=None, ...)</pre><b>In a Jupyter environment, please rerun this cell to show the HTML representation or trust the notebook. <br />On GitHub, the HTML representation is unable to render, please try loading this page with nbviewer.org.</b></div><div class=\"sk-container\" hidden><div class=\"sk-item\"><div class=\"sk-estimator fitted sk-toggleable\"><input class=\"sk-toggleable__control sk-hidden--visually\" id=\"sk-estimator-id-1\" type=\"checkbox\" checked><label for=\"sk-estimator-id-1\" class=\"sk-toggleable__label fitted sk-toggleable__label-arrow\"><div><div>XGBClassifier</div></div><div><a class=\"sk-estimator-doc-link fitted\" rel=\"noreferrer\" target=\"_blank\" href=\"https://xgboost.readthedocs.io/en/release_3.0.0/python/python_api.html#xgboost.XGBClassifier\">?<span>Documentation for XGBClassifier</span></a><span class=\"sk-estimator-doc-link fitted\">i<span>Fitted</span></span></div></label><div class=\"sk-toggleable__content fitted\"><pre>XGBClassifier(base_score=None, booster=None, callbacks=None,\n",
              "              colsample_bylevel=None, colsample_bynode=None,\n",
              "              colsample_bytree=0.9, device=None, early_stopping_rounds=None,\n",
              "              enable_categorical=False, eval_metric=&#x27;logloss&#x27;,\n",
              "              feature_types=None, feature_weights=None, gamma=None,\n",
              "              grow_policy=None, importance_type=None,\n",
              "              interaction_constraints=None, learning_rate=0.08, max_bin=None,\n",
              "              max_cat_threshold=None, max_cat_to_onehot=None,\n",
              "              max_delta_step=None, max_depth=7, max_leaves=None,\n",
              "              min_child_weight=None, missing=nan, monotone_constraints=None,\n",
              "              multi_strategy=None, n_estimators=300, n_jobs=None,\n",
              "              num_parallel_tree=None, ...)</pre></div> </div></div></div></div>"
            ]
          },
          "metadata": {},
          "execution_count": 27
        }
      ]
    },
    {
      "cell_type": "markdown",
      "source": [
        "# Summery Table"
      ],
      "metadata": {
        "id": "nsVcYHh2LGLj"
      }
    },
    {
      "cell_type": "code",
      "source": [
        "# --- 2) EVALUATE: ASCII table + Confusion Matrix ---\n",
        "!pip install -q tabulate seaborn\n",
        "\n",
        "import time, pandas as pd, matplotlib.pyplot as plt, seaborn as sns\n",
        "from tabulate import tabulate\n",
        "from sklearn.metrics import (\n",
        "    accuracy_score, precision_score, recall_score, f1_score,\n",
        "    roc_auc_score, confusion_matrix\n",
        ")\n",
        "\n",
        "# Helper: convert labels to ints; also return pretty axis names\n",
        "def to_int_and_names(y, positive_label=\"phishing\"):\n",
        "    y = np.asarray(y)\n",
        "    if y.dtype.kind in \"OUS\":        # string/object labels\n",
        "        y_int = (y == positive_label).astype(int)\n",
        "        names = (\"Legitimate\", \"Phishing\")\n",
        "    else:                            # numeric 0/1\n",
        "        y_int = y.astype(int)\n",
        "        names = (\"Legitimate\", \"Phishing\")\n",
        "    return y_int, names\n",
        "\n",
        "# Inference & predictions\n",
        "t0 = time.time()\n",
        "y_pred = model.predict(X_TE)\n",
        "t1 = time.time()\n",
        "inference_ms = (t1 - t0) / len(y_TE) * 1000\n",
        "\n",
        "# Normalize labels/preds to ints for metrics, and get axis names\n",
        "y_true_int, axis_names = to_int_and_names(y_TE)\n",
        "if np.asarray(y_pred).dtype.kind in \"OUS\":\n",
        "    y_pred_int, _ = to_int_and_names(y_pred)\n",
        "else:\n",
        "    y_pred_int = np.asarray(y_pred).astype(int)\n",
        "\n",
        "\n",
        "# Metrics (percent)\n",
        "acc  = accuracy_score(y_true_int, y_pred_int) * 100\n",
        "prec = precision_score(y_true_int, y_pred_int, zero_division=0) * 100\n",
        "rec  = recall_score(y_true_int, y_pred_int, zero_division=0) * 100\n",
        "f1   = f1_score(y_true_int, y_pred_int, zero_division=0) * 100\n",
        "\n",
        "# ROC-AUC (if predict_proba available)\n",
        "try:\n",
        "    y_prob = model.predict_proba(X_TE)[:, 1]\n",
        "    roc_auc = roc_auc_score(y_true_int, y_prob) * 100\n",
        "    roc_str = f\"{roc_auc:.3f}\"\n",
        "except Exception:\n",
        "    roc_str = \"N/A\"\n",
        "\n",
        "# Build & print ASCII table\n",
        "results = pd.DataFrame([{\n",
        "    \"Model\": type(model).__name__,\n",
        "    \"Accuracy\": f\"{acc:.3f}\",\n",
        "    \"Precision\": f\"{prec:.3f}\",\n",
        "    \"Recall\": f\"{rec:.3f}\",\n",
        "    \"F1 Score\": f\"{f1:.3f}\",\n",
        "    \"ROC-AUC\": roc_str,\n",
        "    \"Params\": f\"trees={model.n_estimators}, max_depth={model.max_depth}\",\n",
        "    \"Inference(ms)\": f\"{inference_ms:.3f}\"\n",
        "}])\n",
        "print(tabulate(results, headers=\"keys\", tablefmt=\"grid\", showindex=False))\n",
        "\n",
        "# Confusion Matrix (and save)\n",
        "cm = confusion_matrix(y_true_int, y_pred_int, labels=[0, 1])\n",
        "plt.figure(figsize=(6,5))\n",
        "sns.heatmap(cm, annot=True, fmt=\"d\", cmap=\"Blues\",\n",
        "            xticklabels=[axis_names[0], axis_names[1]],\n",
        "            yticklabels=[axis_names[0], axis_names[1]])\n",
        "plt.xlabel(\"Predicted Label\")\n",
        "plt.ylabel(\"True Label\")\n",
        "plt.title(\"Confusion Matrix\")\n",
        "plt.tight_layout()\n",
        "plt.savefig(\"confusion_matrix.png\", dpi=150)\n",
        "plt.show()\n",
        "\n",
        "# Save the table as CSV\n",
        "results.to_csv(\"classification_report_summary.csv\", index=False)\n",
        "print(\"Saved classification_report_summary.csv & confusion_matrix.png\")"
      ],
      "metadata": {
        "colab": {
          "base_uri": "https://localhost:8080/",
          "height": 616
        },
        "id": "M73yj0aMZHY0",
        "outputId": "96471c67-c152-4972-c6a0-7f53dd41721d"
      },
      "execution_count": null,
      "outputs": [
        {
          "output_type": "stream",
          "name": "stdout",
          "text": [
            "+---------------+------------+-------------+----------+------------+-----------+------------------------+-----------------+\n",
            "| Model         |   Accuracy |   Precision |   Recall |   F1 Score |   ROC-AUC | Params                 |   Inference(ms) |\n",
            "+===============+============+=============+==========+============+===========+========================+=================+\n",
            "| XGBClassifier |     99.655 |      99.894 |   99.416 |     99.654 |    99.948 | trees=300, max_depth=7 |           0.009 |\n",
            "+---------------+------------+-------------+----------+------------+-----------+------------------------+-----------------+\n"
          ]
        },
        {
          "output_type": "display_data",
          "data": {
            "text/plain": [
              "<Figure size 600x500 with 2 Axes>"
            ],
            "image/png": "[encoded data removed]"
          },
          "metadata": {}
        },
        {
          "output_type": "stream",
          "name": "stdout",
          "text": [
            "Saved classification_report_summary.csv & confusion_matrix.png\n"
          ]
        }
      ]
    }
  ]
}