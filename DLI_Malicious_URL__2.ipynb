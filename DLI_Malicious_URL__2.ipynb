{
  "nbformat": 4,
  "nbformat_minor": 0,
  "metadata": {
    "colab": {
      "provenance": [],
      "authorship_tag": "ABX9TyMeSrIBukWgDN7SZdHtcAGp",
      "include_colab_link": true
    },
    "kernelspec": {
      "name": "python3",
      "display_name": "Python 3"
    },
    "language_info": {
      "name": "python"
    }
  },
  "cells": [
    {
      "cell_type": "markdown",
      "metadata": {
        "id": "view-in-github",
        "colab_type": "text"
      },
      "source": [
        "<a href=\"https://colab.research.google.com/github/juwetta/DLI_Group-B/blob/main/DLI_Malicious_URL__2.ipynb\" target=\"_parent\"><img src=\"https://colab.research.google.com/assets/colab-badge.svg\" alt=\"Open In Colab\"/></a>"
      ]
    },
    {
      "cell_type": "markdown",
      "source": [
        "#Mount Google Drive"
      ],
      "metadata": {
        "id": "Oa8V59xn94Xf"
      }
    },
    {
      "cell_type": "code",
      "execution_count": 1,
      "metadata": {
        "colab": {
          "base_uri": "https://localhost:8080/"
        },
        "id": "ODgUzXBv6dqr",
        "outputId": "8b610f6b-8ec9-4b27-fe7e-6fcb2871f724"
      },
      "outputs": [
        {
          "output_type": "stream",
          "name": "stdout",
          "text": [
            "Mounted at /content/drive\n"
          ]
        }
      ],
      "source": [
        "from google.colab import drive\n",
        "drive.mount('/content/drive')"
      ]
    },
    {
      "cell_type": "markdown",
      "source": [
        "#Import libraries"
      ],
      "metadata": {
        "id": "b6fnNHKw9-0x"
      }
    },
    {
      "cell_type": "code",
      "source": [
        "!pip install -q imbalanced-learn\n",
        "import pandas as pd\n",
        "from sklearn.preprocessing import LabelEncoder\n",
        "from imblearn.over_sampling import SMOTE\n",
        "from collections import Counter"
      ],
      "metadata": {
        "id": "ge0rlt6b-HeB"
      },
      "execution_count": 3,
      "outputs": []
    },
    {
      "cell_type": "markdown",
      "source": [
        "#1) Load dataset & Encode target labels"
      ],
      "metadata": {
        "id": "OKTKnWGp-hSB"
      }
    },
    {
      "cell_type": "code",
      "source": [
        "# Load dataset\n",
        "dataset_path = '/content/drive/MyDrive/DLI Group B/url_dataset/URL dataset.csv'\n",
        "df = pd.read_csv(dataset_path)\n",
        "\n",
        "print(\"Initial dataset shape:\", df.shape)\n",
        "print(\"Initial class distribution:\\n\", df['type'].value_counts())\n",
        "\n",
        "# Encode target\n",
        "le = LabelEncoder()\n",
        "y_encoded = le.fit_transform(df['type'])  # legitimate=0, phishing=1\n"
      ],
      "metadata": {
        "colab": {
          "base_uri": "https://localhost:8080/"
        },
        "id": "94kjc3hsADe_",
        "outputId": "6031dc5d-b64e-40fd-cf25-00e438ccdb37"
      },
      "execution_count": 7,
      "outputs": [
        {
          "output_type": "stream",
          "name": "stdout",
          "text": [
            "Initial dataset shape: (450176, 2)\n",
            "Initial class distribution:\n",
            " type\n",
            "legitimate    345738\n",
            "phishing      104438\n",
            "Name: count, dtype: int64\n"
          ]
        }
      ]
    },
    {
      "cell_type": "markdown",
      "source": [
        "#2) Prepare Features & Apply SMOTE"
      ],
      "metadata": {
        "id": "3-BxToIeAfxs"
      }
    },
    {
      "cell_type": "code",
      "source": [
        "# Use URL length as a simple numeric feature (replace with better features later)\n",
        "X_numeric = df['url'].apply(len).values.reshape(-1, 1)\n",
        "\n",
        "# Apply SMOTE to balance classes\n",
        "smote = SMOTE(random_state=42)\n",
        "X_res, y_res = smote.fit_resample(X_numeric, y_encoded)\n",
        "\n",
        "# Decode back to original labels\n",
        "y_res_labels = le.inverse_transform(y_res)\n",
        "print(\"\\nBalanced class distribution:\\n\", Counter(y_res_labels))\n"
      ],
      "metadata": {
        "colab": {
          "base_uri": "https://localhost:8080/"
        },
        "id": "2lHqZoQ1_i-O",
        "outputId": "3b669037-cb5f-4453-f8b5-b9bfbdc7be96"
      },
      "execution_count": 8,
      "outputs": [
        {
          "output_type": "stream",
          "name": "stdout",
          "text": [
            "\n",
            "Balanced class distribution:\n",
            " Counter({'legitimate': 345738, 'phishing': 345738})\n"
          ]
        }
      ]
    },
    {
      "cell_type": "markdown",
      "source": [
        "#4) Create Balanced DataFrame & Save"
      ],
      "metadata": {
        "id": "eb38QX69AuRC"
      }
    },
    {
      "cell_type": "code",
      "source": [
        "# Create balanced DataFrame\n",
        "balanced_df = pd.DataFrame({\n",
        "    'url': df['url'].sample(n=len(y_res_labels), replace=True, random_state=42).values,\n",
        "    'type': y_res_labels\n",
        "})\n",
        "\n",
        "print(\"Balanced dataset shape:\", balanced_df.shape)\n",
        "\n",
        "# Save balanced dataset\n",
        "save_path = '/content/drive/MyDrive/DLI Group B/url_dataset/URL_dataset_balanced.csv'\n",
        "balanced_df.to_csv(save_path, index=False)\n",
        "print(f\"Balanced dataset saved to: {save_path}\")\n"
      ],
      "metadata": {
        "colab": {
          "base_uri": "https://localhost:8080/"
        },
        "id": "BwJb4FtcAo14",
        "outputId": "28b81d2b-4172-4692-b3f1-36558ba951ca"
      },
      "execution_count": 9,
      "outputs": [
        {
          "output_type": "stream",
          "name": "stdout",
          "text": [
            "Balanced dataset shape: (691476, 2)\n",
            "Balanced dataset saved to: /content/drive/MyDrive/DLI Group B/url_dataset/URL_dataset_balanced.csv\n"
          ]
        }
      ]
    }
  ]
}