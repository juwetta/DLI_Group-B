{
  "nbformat": 4,
  "nbformat_minor": 0,
  "metadata": {
    "colab": {
      "provenance": [],
      "authorship_tag": "ABX9TyOs360TeUkgw1Lw7udp5SQi",
      "include_colab_link": true
    },
    "kernelspec": {
      "name": "python3",
      "display_name": "Python 3"
    },
    "language_info": {
      "name": "python"
    }
  },
  "cells": [
    {
      "cell_type": "markdown",
      "metadata": {
        "id": "view-in-github",
        "colab_type": "text"
      },
      "source": [
        "<a href=\"https://colab.research.google.com/github/juwetta/DLI_Group-B/blob/main/DLI_Malicious_URL__2.ipynb\" target=\"_parent\"><img src=\"https://colab.research.google.com/assets/colab-badge.svg\" alt=\"Open In Colab\"/></a>"
      ]
    },
    {
      "cell_type": "markdown",
      "source": [
        "#Mount Google Drive"
      ],
      "metadata": {
        "id": "Oa8V59xn94Xf"
      }
    },
    {
      "cell_type": "code",
      "execution_count": 1,
      "metadata": {
        "colab": {
          "base_uri": "https://localhost:8080/"
        },
        "id": "ODgUzXBv6dqr",
        "outputId": "8b610f6b-8ec9-4b27-fe7e-6fcb2871f724"
      },
      "outputs": [
        {
          "output_type": "stream",
          "name": "stdout",
          "text": [
            "Mounted at /content/drive\n"
          ]
        }
      ],
      "source": [
        "from google.colab import drive\n",
        "drive.mount('/content/drive')"
      ]
    },
    {
      "cell_type": "markdown",
      "source": [
        "# set paths"
      ],
      "metadata": {
        "id": "b6fnNHKw9-0x"
      }
    },
    {
      "cell_type": "code",
      "source": [
        "# Paths\n",
        "SRC = '/content/drive/MyDrive/DLI Group B/url_dataset/URL dataset.csv'\n",
        "OUT_DIR = '/content/drive/MyDrive/DLI Group B/url_dataset/clean_balanced'\n",
        "FINAL_CSV = f'{OUT_DIR}/URL_dataset_clean_balanced.csv'\n",
        "\n",
        "# Create output folder\n",
        "import os\n",
        "os.makedirs(OUT_DIR, exist_ok=True)\n"
      ],
      "metadata": {
        "id": "ge0rlt6b-HeB"
      },
      "execution_count": 27,
      "outputs": []
    },
    {
      "cell_type": "markdown",
      "source": [
        "#1) Load, clean, and deduplicate"
      ],
      "metadata": {
        "id": "OKTKnWGp-hSB"
      }
    },
    {
      "cell_type": "code",
      "source": [
        "import pandas as pd\n",
        "\n",
        "# Load\n",
        "df = pd.read_csv(SRC)\n",
        "\n",
        "# Clean: drop missing & exact duplicates\n",
        "df = df.dropna(subset=['url','type']).drop_duplicates().reset_index(drop=True)\n",
        "\n",
        "# Show cleaned stats\n",
        "print('After cleaning:', df.shape)\n",
        "print('Class counts (cleaned):\\n', df['type'].value_counts())\n",
        "\n",
        "# Find minority count (phishing ~104k in your data)\n",
        "minority_count = df['type'].value_counts().min()\n",
        "\n",
        "# Undersample each class to the minority count (no synthetic data)\n",
        "df_balanced = (\n",
        "    df.groupby('type', group_keys=False)\n",
        "      .apply(lambda x: x.sample(n=minority_count, random_state=42))\n",
        "      .sample(frac=1, random_state=42)   # shuffle\n",
        "      .reset_index(drop=True)\n",
        ")\n",
        "\n",
        "# Sanity checks\n",
        "print('\\nBalanced counts:\\n', df_balanced['type'].value_counts())\n",
        "print('Missing values:\\n', df_balanced.isnull().sum())\n",
        "print('Duplicate rows:', df_balanced.duplicated().sum())\n",
        "\n",
        "# Save final balanced & clean file\n",
        "df_balanced.to_csv(FINAL_CSV, index=False)\n",
        "print('\\nSaved ->', FINAL_CSV)\n"
      ],
      "metadata": {
        "colab": {
          "base_uri": "https://localhost:8080/"
        },
        "id": "94kjc3hsADe_",
        "outputId": "f3c96191-49f5-4214-d5a6-6b78489cfb35"
      },
      "execution_count": 28,
      "outputs": [
        {
          "output_type": "stream",
          "name": "stdout",
          "text": [
            "After cleaning: (450176, 2)\n",
            "Class counts (cleaned):\n",
            " type\n",
            "legitimate    345738\n",
            "phishing      104438\n",
            "Name: count, dtype: int64\n"
          ]
        },
        {
          "output_type": "stream",
          "name": "stderr",
          "text": [
            "/tmp/ipython-input-2836290519.py:19: DeprecationWarning: DataFrameGroupBy.apply operated on the grouping columns. This behavior is deprecated, and in a future version of pandas the grouping columns will be excluded from the operation. Either pass `include_groups=False` to exclude the groupings or explicitly select the grouping columns after groupby to silence this warning.\n",
            "  .apply(lambda x: x.sample(n=minority_count, random_state=42))\n"
          ]
        },
        {
          "output_type": "stream",
          "name": "stdout",
          "text": [
            "\n",
            "Balanced counts:\n",
            " type\n",
            "phishing      104438\n",
            "legitimate    104438\n",
            "Name: count, dtype: int64\n",
            "Missing values:\n",
            " url     0\n",
            "type    0\n",
            "dtype: int64\n",
            "Duplicate rows: 0\n",
            "\n",
            "Saved -> /content/drive/MyDrive/DLI Group B/url_dataset/clean_balanced/URL_dataset_clean_balanced.csv\n"
          ]
        }
      ]
    },
    {
      "cell_type": "markdown",
      "source": [
        "#2) Stratified train/val/test splits\n",
        "\n"
      ],
      "metadata": {
        "id": "3-BxToIeAfxs"
      }
    },
    {
      "cell_type": "code",
      "source": [
        "from sklearn.model_selection import train_test_split\n",
        "\n",
        "train_df, temp_df = train_test_split(\n",
        "    df_balanced, test_size=0.30, stratify=df_balanced['type'], random_state=42\n",
        ")\n",
        "val_df, test_df = train_test_split(\n",
        "    temp_df, test_size=0.50, stratify=temp_df['type'], random_state=42\n",
        ")\n",
        "\n",
        "print('Split sizes -> train/val/test:', len(train_df), len(val_df), len(test_df))\n",
        "print('Train counts:\\n', train_df['type'].value_counts())\n",
        "print('Val counts:\\n',   val_df['type'].value_counts())\n",
        "print('Test counts:\\n',  test_df['type'].value_counts())\n",
        "\n",
        "train_df.to_csv(f'{OUT_DIR}/URL_dataset_balanced_train.csv', index=False)\n",
        "val_df.to_csv(f'{OUT_DIR}/URL_dataset_balanced_val.csv', index=False)\n",
        "test_df.to_csv(f'{OUT_DIR}/URL_dataset_balanced_test.csv', index=False)\n",
        "print('\\nSaved splits to:', OUT_DIR)\n"
      ],
      "metadata": {
        "colab": {
          "base_uri": "https://localhost:8080/"
        },
        "id": "mT0MoI6aViaj",
        "outputId": "4b6d69da-2fc8-4067-9528-e2ab4d05143c"
      },
      "execution_count": 29,
      "outputs": [
        {
          "output_type": "stream",
          "name": "stdout",
          "text": [
            "Split sizes -> train/val/test: 146213 31331 31332\n",
            "Train counts:\n",
            " type\n",
            "phishing      73107\n",
            "legitimate    73106\n",
            "Name: count, dtype: int64\n",
            "Val counts:\n",
            " type\n",
            "legitimate    15666\n",
            "phishing      15665\n",
            "Name: count, dtype: int64\n",
            "Test counts:\n",
            " type\n",
            "legitimate    15666\n",
            "phishing      15666\n",
            "Name: count, dtype: int64\n",
            "\n",
            "Saved splits to: /content/drive/MyDrive/DLI Group B/url_dataset/clean_balanced\n"
          ]
        }
      ]
    }
  ]
}