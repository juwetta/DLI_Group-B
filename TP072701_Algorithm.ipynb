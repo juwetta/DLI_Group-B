{
  "nbformat": 4,
  "nbformat_minor": 0,
  "metadata": {
    "colab": {
      "provenance": [],
      "authorship_tag": "ABX9TyPS0NxyZ0sILZhRa2+sPsEV",
      "include_colab_link": true
    },
    "kernelspec": {
      "name": "python3",
      "display_name": "Python 3"
    },
    "language_info": {
      "name": "python"
    }
  },
  "cells": [
    {
      "cell_type": "markdown",
      "metadata": {
        "id": "view-in-github",
        "colab_type": "text"
      },
      "source": [
        "<a href=\"https://colab.research.google.com/github/juwetta/DLI_Group-B/blob/main/TP072701_Algorithm.ipynb\" target=\"_parent\"><img src=\"https://colab.research.google.com/assets/colab-badge.svg\" alt=\"Open In Colab\"/></a>"
      ]
    },
    {
      "cell_type": "markdown",
      "source": [
        "#**1) Mount & setup**"
      ],
      "metadata": {
        "id": "RzNJlT5LZuLa"
      }
    },
    {
      "cell_type": "code",
      "source": [
        "# 1) Mount & setup\n",
        "from google.colab import drive\n",
        "drive.mount('/content/drive')\n",
        "\n",
        "!pip -q install tabulate seaborn\n",
        "\n",
        "import os, time, numpy as np, pandas as pd, matplotlib.pyplot as plt, seaborn as sns\n",
        "from tabulate import tabulate\n",
        "\n",
        "from sklearn.model_selection import train_test_split\n",
        "from sklearn.feature_extraction.text import TfidfVectorizer\n",
        "from sklearn.svm import LinearSVC\n",
        "from sklearn.metrics import (\n",
        "    classification_report, f1_score, precision_score, recall_score,\n",
        "    accuracy_score, roc_auc_score, confusion_matrix\n",
        ")\n"
      ],
      "metadata": {
        "colab": {
          "base_uri": "https://localhost:8080/"
        },
        "id": "RW89ASHhWnVd",
        "outputId": "e20e81f9-940b-4651-f543-7c76c18170b9"
      },
      "execution_count": 1,
      "outputs": [
        {
          "output_type": "stream",
          "name": "stdout",
          "text": [
            "Mounted at /content/drive\n"
          ]
        }
      ]
    },
    {
      "cell_type": "markdown",
      "source": [
        "#**2) Load & split (stratified)**"
      ],
      "metadata": {
        "id": "ftUiDGG5Z4LC"
      }
    },
    {
      "cell_type": "code",
      "source": [
        "# 2) Load & split (stratified)\n",
        "DATA = \"/content/drive/MyDrive/URL_dataset_clean_balanced.csv\"\n",
        "assert os.path.exists(DATA), f\"CSV not found: {DATA}\"\n",
        "\n",
        "df = pd.read_csv(DATA)\n",
        "assert {\"url\",\"type\"} <= set(df.columns), f\"Columns missing. Found: {df.columns.tolist()}\"\n",
        "\n",
        "X_text = df[\"url\"].astype(str)\n",
        "y      = df[\"type\"].astype(str)   # \"phishing\" / \"legitimate\"\n",
        "\n",
        "# Train/Val/Test = 64/16/20 split (stratified)\n",
        "X_tr, X_te, y_tr, y_te = train_test_split(X_text, y, test_size=0.20, stratify=y, random_state=42)\n",
        "X_tr, X_va, y_tr, y_va = train_test_split(X_tr,   y_tr, test_size=0.20, stratify=y_tr, random_state=42)\n",
        "\n",
        "print(\"Sizes -> train:\", len(X_tr), \"val:\", len(X_va), \"test:\", len(X_te))\n",
        "y_tr.value_counts()\n"
      ],
      "metadata": {
        "colab": {
          "base_uri": "https://localhost:8080/",
          "height": 196
        },
        "id": "2AVe1niXWwb9",
        "outputId": "a328bffe-2d89-40be-8b98-d5093e8b0abb"
      },
      "execution_count": 2,
      "outputs": [
        {
          "output_type": "stream",
          "name": "stdout",
          "text": [
            "Sizes -> train: 133680 val: 33420 test: 41776\n"
          ]
        },
        {
          "output_type": "execute_result",
          "data": {
            "text/plain": [
              "type\n",
              "phishing      66840\n",
              "legitimate    66840\n",
              "Name: count, dtype: int64"
            ],
            "text/html": [
              "<div>\n",
              "<style scoped>\n",
              "    .dataframe tbody tr th:only-of-type {\n",
              "        vertical-align: middle;\n",
              "    }\n",
              "\n",
              "    .dataframe tbody tr th {\n",
              "        vertical-align: top;\n",
              "    }\n",
              "\n",
              "    .dataframe thead th {\n",
              "        text-align: right;\n",
              "    }\n",
              "</style>\n",
              "<table border=\"1\" class=\"dataframe\">\n",
              "  <thead>\n",
              "    <tr style=\"text-align: right;\">\n",
              "      <th></th>\n",
              "      <th>count</th>\n",
              "    </tr>\n",
              "    <tr>\n",
              "      <th>type</th>\n",
              "      <th></th>\n",
              "    </tr>\n",
              "  </thead>\n",
              "  <tbody>\n",
              "    <tr>\n",
              "      <th>phishing</th>\n",
              "      <td>66840</td>\n",
              "    </tr>\n",
              "    <tr>\n",
              "      <th>legitimate</th>\n",
              "      <td>66840</td>\n",
              "    </tr>\n",
              "  </tbody>\n",
              "</table>\n",
              "</div><br><label><b>dtype:</b> int64</label>"
            ]
          },
          "metadata": {},
          "execution_count": 2
        }
      ]
    },
    {
      "cell_type": "markdown",
      "source": [
        "#**3) Vectorizer (char TF-IDF)**"
      ],
      "metadata": {
        "id": "UlmulWn3Z-h-"
      }
    },
    {
      "cell_type": "code",
      "source": [
        "# 3) Vectorizer (char TF-IDF) — fast & strong for URLs\n",
        "# If you have plenty of RAM, you can raise max_features to 80_000 or 100_000 for a tiny gain.\n",
        "tfidf = TfidfVectorizer(\n",
        "    analyzer=\"char\",\n",
        "    ngram_range=(3,5),\n",
        "    min_df=5,\n",
        "    max_features=50_000,    # <- adjust upward if you want\n",
        "    dtype=np.float32,\n",
        "    lowercase=True\n",
        ")\n",
        "\n",
        "t0 = time.time()\n",
        "X_tr_m = tfidf.fit_transform(X_tr)\n",
        "X_va_m = tfidf.transform(X_va)\n",
        "X_te_m = tfidf.transform(X_te)\n",
        "t1 = time.time()\n",
        "\n",
        "print(f\"TF-IDF in {(t1 - t0):.1f}s  |  shapes -> train {X_tr_m.shape}, val {X_va_m.shape}, test {X_te_m.shape}\")\n"
      ],
      "metadata": {
        "colab": {
          "base_uri": "https://localhost:8080/"
        },
        "id": "3UN_zIxTW52A",
        "outputId": "f8d68ac4-39c2-4f61-f516-4379c5803861"
      },
      "execution_count": 3,
      "outputs": [
        {
          "output_type": "stream",
          "name": "stdout",
          "text": [
            "TF-IDF in 40.2s  |  shapes -> train (133680, 50000), val (33420, 50000), test (41776, 50000)\n"
          ]
        }
      ]
    },
    {
      "cell_type": "markdown",
      "source": [
        "#**4) Train LinearSVC**"
      ],
      "metadata": {
        "id": "MTgaib8oaGF_"
      }
    },
    {
      "cell_type": "code",
      "source": [
        "# 4) Train LinearSVC (fast)\n",
        "# dual=False is typically faster when n_samples > n_features (true here with 50k features and big sample count)\n",
        "svm = LinearSVC(C=1.0, class_weight=\"balanced\", dual=False, random_state=42)\n",
        "\n",
        "t0 = time.time()\n",
        "svm.fit(X_tr_m, y_tr)\n",
        "t1 = time.time()\n",
        "\n",
        "print(f\"SVM trained in {(t1 - t0):.1f}s\")\n",
        "print(\"Classes:\", svm.classes_)\n"
      ],
      "metadata": {
        "colab": {
          "base_uri": "https://localhost:8080/"
        },
        "id": "cfYN5095XH3_",
        "outputId": "9d74d6ce-146e-44df-88c9-7a72357c7125"
      },
      "execution_count": 4,
      "outputs": [
        {
          "output_type": "stream",
          "name": "stdout",
          "text": [
            "SVM trained in 5.0s\n",
            "Classes: ['legitimate' 'phishing']\n"
          ]
        }
      ]
    },
    {
      "cell_type": "markdown",
      "source": [
        "#**5) Threshold tuning on validation**"
      ],
      "metadata": {
        "id": "fqr3tPLvaT_f"
      }
    },
    {
      "cell_type": "code",
      "source": [
        "# 5) Threshold tuning on validation (maximize F1 for \"phishing\")\n",
        "# LinearSVC has no predict_proba, so we use decision_function scores.\n",
        "# Ensure positive scores mean \"phishing\":\n",
        "def scores_for_class(model, X, positive_label=\"phishing\"):\n",
        "    s = model.decision_function(X)\n",
        "    # For LinearSVC, positive scores map to classes_[1]. Flip if needed so that higher = phishing\n",
        "    if model.classes_[1] != positive_label:\n",
        "        s = -s\n",
        "    return s\n",
        "\n",
        "va_scores = scores_for_class(svm, X_va_m, positive_label=\"phishing\")\n",
        "\n",
        "# Pick thresholds via score percentiles (robust & fast)\n",
        "percentiles = np.linspace(5, 95, 91)\n",
        "cand_thr = np.percentile(va_scores, percentiles)\n",
        "\n",
        "best_f1, best_t = 0.0, 0.0\n",
        "for t in cand_thr:\n",
        "    pred = np.where(va_scores >= t, \"phishing\", \"legitimate\")\n",
        "    f1 = f1_score(y_va, pred, pos_label=\"phishing\")\n",
        "    if f1 > best_f1:\n",
        "        best_f1, best_t = f1, float(t)\n",
        "\n",
        "print(f\"Best val F1={best_f1:.4f} at threshold={best_t:.6f}\")\n"
      ],
      "metadata": {
        "colab": {
          "base_uri": "https://localhost:8080/"
        },
        "id": "KLZdPZTNXSXN",
        "outputId": "945b447c-9839-44f9-e76c-08799d1c7067"
      },
      "execution_count": 5,
      "outputs": [
        {
          "output_type": "stream",
          "name": "stdout",
          "text": [
            "Best val F1=0.9976 at threshold=-0.369892\n"
          ]
        }
      ]
    },
    {
      "cell_type": "markdown",
      "source": [
        "#**6) Test evaluation + summary table + confusion matrix**"
      ],
      "metadata": {
        "id": "Bl0NAVWNapWO"
      }
    },
    {
      "cell_type": "code",
      "source": [
        "# 6) Test evaluation + summary table + confusion matrix\n",
        "te_scores = scores_for_class(svm, X_te_m, positive_label=\"phishing\")\n",
        "\n",
        "# Default SVM decision boundary (0.0)\n",
        "y_pred_default = np.where(te_scores >= 0.0, \"phishing\", \"legitimate\")\n",
        "# Best threshold from validation\n",
        "y_pred_best    = np.where(te_scores >= best_t, \"phishing\", \"legitimate\")\n",
        "\n",
        "def report_one(y_true, y_pred, title):\n",
        "    acc  = accuracy_score(y_true, y_pred) * 100\n",
        "    prec = precision_score(y_true, y_pred, pos_label=\"phishing\", zero_division=0) * 100\n",
        "    rec  = recall_score(y_true, y_pred, pos_label=\"phishing\", zero_division=0) * 100\n",
        "    f1   = f1_score(y_true, y_pred, pos_label=\"phishing\", zero_division=0) * 100\n",
        "    print(f\"\\n== {title} ==\")\n",
        "    print(classification_report(y_true, y_pred, digits=3))\n",
        "    return acc, prec, rec, f1\n",
        "\n",
        "acc0, p0, r0, f10 = report_one(y_te, y_pred_default, \"LinearSVC @thr=0.0 (default)\")\n",
        "accB, pB, rB, f1B = report_one(y_te, y_pred_best,    \"LinearSVC @best threshold\")\n",
        "\n",
        "# ROC-AUC (with scores aligned so higher=phishing)\n",
        "y_te_int = (y_te == \"phishing\").astype(int)\n",
        "auc = roc_auc_score(y_te_int, te_scores) * 100\n",
        "\n",
        "# Inference timing (ms/sample)\n",
        "t0 = time.time()\n",
        "_ = svm.decision_function(X_te_m[:2000])   # sample a chunk for stable timing\n",
        "t1 = time.time()\n",
        "infer_ms = (t1 - t0) / 2000 * 1000\n",
        "\n",
        "# ASCII Summary\n",
        "summary = pd.DataFrame([{\n",
        "    \"Model\": \"LinearSVC (char TF-IDF)\",\n",
        "    \"Accuracy\": f\"{accB:.3f}\",\n",
        "    \"Precision\": f\"{pB:.3f}\",\n",
        "    \"Recall\": f\"{rB:.3f}\",\n",
        "    \"F1 Score\": f\"{f1B:.3f}\",\n",
        "    \"ROC-AUC\": f\"{auc:.3f}\",\n",
        "    \"Params\": f\"ngrams=3-5, max_feat={tfidf.max_features}, C={svm.C}\",\n",
        "    \"Inference(ms/sample)\": f\"{infer_ms:.4f}\",\n",
        "    \"BestThr\": f\"{best_t:.6f}\",\n",
        "}])\n",
        "print(\"\\n\" + tabulate(summary, headers=\"keys\", tablefmt=\"grid\", showindex=False))\n",
        "\n",
        "# Confusion Matrix (best threshold)\n",
        "cm = confusion_matrix(y_te, y_pred_best, labels=[\"legitimate\",\"phishing\"])\n",
        "plt.figure(figsize=(6,5))\n",
        "sns.heatmap(cm, annot=True, fmt=\"d\", cmap=\"Blues\",\n",
        "            xticklabels=[\"legitimate\",\"phishing\"],\n",
        "            yticklabels=[\"legitimate\",\"phishing\"])\n",
        "plt.xlabel(\"Predicted\"); plt.ylabel(\"True\"); plt.title(\"Confusion Matrix — LinearSVC (best threshold)\")\n",
        "plt.tight_layout()\n",
        "plt.savefig(\"confusion_matrix_linear_svc.png\", dpi=150)\n",
        "plt.show()\n",
        "\n",
        "# Save the table as CSV\n",
        "summary.to_csv(\"classification_report_linear_svc.csv\", index=False)\n",
        "print(\"Saved classification_report_linear_svc.csv & confusion_matrix_linear_svc.png\")\n"
      ],
      "metadata": {
        "colab": {
          "base_uri": "https://localhost:8080/",
          "height": 1000
        },
        "id": "aCaSIzl6Xbga",
        "outputId": "2317b682-4129-410e-ea91-1ab27cb7a385"
      },
      "execution_count": 6,
      "outputs": [
        {
          "output_type": "stream",
          "name": "stdout",
          "text": [
            "\n",
            "== LinearSVC @thr=0.0 (default) ==\n",
            "              precision    recall  f1-score   support\n",
            "\n",
            "  legitimate      0.996     0.999     0.998     20888\n",
            "    phishing      0.999     0.996     0.998     20888\n",
            "\n",
            "    accuracy                          0.998     41776\n",
            "   macro avg      0.998     0.998     0.998     41776\n",
            "weighted avg      0.998     0.998     0.998     41776\n",
            "\n",
            "\n",
            "== LinearSVC @best threshold ==\n",
            "              precision    recall  f1-score   support\n",
            "\n",
            "  legitimate      0.998     0.998     0.998     20888\n",
            "    phishing      0.998     0.998     0.998     20888\n",
            "\n",
            "    accuracy                          0.998     41776\n",
            "   macro avg      0.998     0.998     0.998     41776\n",
            "weighted avg      0.998     0.998     0.998     41776\n",
            "\n",
            "\n",
            "+-------------------------+------------+-------------+----------+------------+-----------+-----------------------------------+------------------------+-----------+\n",
            "| Model                   |   Accuracy |   Precision |   Recall |   F1 Score |   ROC-AUC | Params                            |   Inference(ms/sample) |   BestThr |\n",
            "+=========================+============+=============+==========+============+===========+===================================+========================+===========+\n",
            "| LinearSVC (char TF-IDF) |     99.775 |      99.775 |   99.775 |     99.775 |    99.953 | ngrams=3-5, max_feat=50000, C=1.0 |                 0.0021 | -0.369892 |\n",
            "+-------------------------+------------+-------------+----------+------------+-----------+-----------------------------------+------------------------+-----------+\n"
          ]
        },
        {
          "output_type": "display_data",
          "data": {
            "text/plain": [
              "<Figure size 600x500 with 2 Axes>"
            ],
            "image/png": "[encoded data removed]"
          },
          "metadata": {}
        },
        {
          "output_type": "stream",
          "name": "stdout",
          "text": [
            "Saved classification_report_linear_svc.csv & confusion_matrix_linear_svc.png\n"
          ]
        }
      ]
    }
  ]
}