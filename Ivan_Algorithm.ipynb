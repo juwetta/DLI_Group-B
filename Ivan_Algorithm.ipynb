{
  "nbformat": 4,
  "nbformat_minor": 0,
  "metadata": {
    "colab": {
      "provenance": [],
      "authorship_tag": "ABX9TyPZGQoVQY06I5b/68dgQjWJ",
      "include_colab_link": true
    },
    "kernelspec": {
      "name": "python3",
      "display_name": "Python 3"
    },
    "language_info": {
      "name": "python"
    }
  },
  "cells": [
    {
      "cell_type": "markdown",
      "metadata": {
        "id": "view-in-github",
        "colab_type": "text"
      },
      "source": [
        "<a href=\"https://colab.research.google.com/github/juwetta/DLI_Group-B/blob/main/Ivan_Algorithm.ipynb\" target=\"_parent\"><img src=\"https://colab.research.google.com/assets/colab-badge.svg\" alt=\"Open In Colab\"/></a>"
      ]
    },
    {
      "cell_type": "markdown",
      "source": [],
      "metadata": {
        "id": "P5XRfM4F-0kj"
      }
    },
    {
      "cell_type": "code",
      "execution_count": 4,
      "metadata": {
        "colab": {
          "base_uri": "https://localhost:8080/"
        },
        "id": "yEugx0JX7aSE",
        "outputId": "80870094-3857-4e3c-eac1-d5503a2b0703"
      },
      "outputs": [
        {
          "output_type": "stream",
          "name": "stdout",
          "text": [
            "Drive already mounted at /content/gdrive; to attempt to forcibly remount, call drive.mount(\"/content/gdrive\", force_remount=True).\n"
          ]
        }
      ],
      "source": [
        "# Mount Google Drive\n",
        "from google.colab import drive\n",
        "drive.mount('/content/gdrive')\n",
        "\n",
        "# Change directory to the desired location in Google Drive\n",
        "import os\n",
        "os.chdir('/content/gdrive/MyDrive')"
      ]
    },
    {
      "cell_type": "code",
      "source": [
        "# STEP 1: Install dependencies\n",
        "!pip install lightgbm scikit-learn pandas\n",
        "\n",
        "# STEP 2: Import libraries\n",
        "import pandas as pd\n",
        "import numpy as np\n",
        "from sklearn.model_selection import train_test_split\n",
        "from sklearn.metrics import f1_score, classification_report\n",
        "import lightgbm as lgb\n",
        "import re\n",
        "\n",
        "# STEP 3: Download & Load dataset\n",
        "DATA_URL = \"https://raw.githubusercontent.com/juwetta/DLI_Group-B/main/URL_dataset_clean_balanced.csv\"\n",
        "!wget -O URL_dataset_clean_balanced.csv \"$DATA_URL\"\n",
        "\n",
        "df = pd.read_csv(\"URL_dataset_clean_balanced.csv\")\n",
        "print(\"✅ Dataset loaded successfully!\")\n",
        "print(\"Shape:\", df.shape)\n",
        "print(\"Columns:\", df.columns.tolist())\n",
        "print(df.head())\n",
        "\n",
        "# STEP 4: Feature Engineering\n",
        "def extract_features(df):\n",
        "    df['url_length'] = df['url'].apply(len)\n",
        "    df['num_digits'] = df['url'].str.count(r'\\d')\n",
        "    df['num_special'] = df['url'].str.count(r'[\\W]')\n",
        "    df['num_subdirs'] = df['url'].str.count('/')\n",
        "    df['num_dots'] = df['url'].str.count(r'\\.')\n",
        "    df['has_https'] = df['url'].apply(lambda x: 1 if \"https\" in x else 0)\n",
        "    df['has_ip'] = df['url'].apply(lambda x: 1 if re.search(r'(\\d{1,3}\\.){3}\\d{1,3}', x) else 0)\n",
        "    return df\n",
        "\n",
        "df = extract_features(df)\n",
        "\n",
        "# STEP 5: Drop raw url, prepare features and labels\n",
        "X = df.drop([\"url\", \"type\"], axis=1)\n",
        "y = df[\"type\"].map({\"legitimate\": 0, \"phishing\": 1})  # Convert to binary (0=legit, 1=phishing)\n",
        "\n",
        "# STEP 6: Train-test split\n",
        "X_train, X_test, y_train, y_test = train_test_split(\n",
        "    X, y, test_size=0.2, random_state=42, stratify=y\n",
        ")\n",
        "\n",
        "# STEP 7: Define LightGBM model\n",
        "lgbm = lgb.LGBMClassifier(\n",
        "    boosting_type='gbdt',\n",
        "    objective='binary',\n",
        "    n_estimators=2000,\n",
        "    learning_rate=0.02,\n",
        "    max_depth=-1,\n",
        "    num_leaves=64,\n",
        "    colsample_bytree=0.8,\n",
        "    subsample=0.8,\n",
        "    reg_alpha=0.1,\n",
        "    reg_lambda=0.1,\n",
        "    random_state=42,\n",
        "    n_jobs=-1\n",
        ")\n",
        "\n",
        "# STEP 8: Train model (with early stopping)\n",
        "lgbm.fit(\n",
        "    X_train, y_train,\n",
        "    eval_set=[(X_test, y_test)],\n",
        "    eval_metric='f1',\n",
        "    callbacks=[lgb.early_stopping(stopping_rounds=100)]\n",
        ")\n",
        "\n",
        "# STEP 9: Predictions\n",
        "y_pred = lgbm.predict(X_test)\n",
        "\n",
        "# STEP 10: Evaluation\n",
        "f1 = f1_score(y_test, y_pred)\n",
        "print(\"\\n🎯 F1 Score:\", f1)\n",
        "print(\"\\nClassification Report:\\n\", classification_report(y_test, y_pred))\n"
      ],
      "metadata": {
        "id": "ThSjdGjn-vH4",
        "colab": {
          "base_uri": "https://localhost:8080/"
        },
        "outputId": "47030e6d-8058-47f1-db0a-cd0bf8dbc621"
      },
      "execution_count": 8,
      "outputs": [
        {
          "output_type": "stream",
          "name": "stdout",
          "text": [
            "Requirement already satisfied: lightgbm in /usr/local/lib/python3.11/dist-packages (4.6.0)\n",
            "Requirement already satisfied: scikit-learn in /usr/local/lib/python3.11/dist-packages (1.6.1)\n",
            "Requirement already satisfied: pandas in /usr/local/lib/python3.11/dist-packages (2.2.2)\n",
            "Requirement already satisfied: numpy>=1.17.0 in /usr/local/lib/python3.11/dist-packages (from lightgbm) (2.0.2)\n",
            "Requirement already satisfied: scipy in /usr/local/lib/python3.11/dist-packages (from lightgbm) (1.16.1)\n",
            "Requirement already satisfied: joblib>=1.2.0 in /usr/local/lib/python3.11/dist-packages (from scikit-learn) (1.5.1)\n",
            "Requirement already satisfied: threadpoolctl>=3.1.0 in /usr/local/lib/python3.11/dist-packages (from scikit-learn) (3.6.0)\n",
            "Requirement already satisfied: python-dateutil>=2.8.2 in /usr/local/lib/python3.11/dist-packages (from pandas) (2.9.0.post0)\n",
            "Requirement already satisfied: pytz>=2020.1 in /usr/local/lib/python3.11/dist-packages (from pandas) (2025.2)\n",
            "Requirement already satisfied: tzdata>=2022.7 in /usr/local/lib/python3.11/dist-packages (from pandas) (2025.2)\n",
            "Requirement already satisfied: six>=1.5 in /usr/local/lib/python3.11/dist-packages (from python-dateutil>=2.8.2->pandas) (1.17.0)\n",
            "--2025-08-19 11:10:38--  https://raw.githubusercontent.com/juwetta/DLI_Group-B/main/URL_dataset_clean_balanced.csv\n",
            "Resolving raw.githubusercontent.com (raw.githubusercontent.com)... 185.199.108.133, 185.199.109.133, 185.199.110.133, ...\n",
            "Connecting to raw.githubusercontent.com (raw.githubusercontent.com)|185.199.108.133|:443... connected.\n",
            "HTTP request sent, awaiting response... 200 OK\n",
            "Length: 15312637 (15M) [text/plain]\n",
            "Saving to: ‘URL_dataset_clean_balanced.csv’\n",
            "\n",
            "URL_dataset_clean_b 100%[===================>]  14.60M  51.0MB/s    in 0.3s    \n",
            "\n",
            "2025-08-19 11:10:39 (51.0 MB/s) - ‘URL_dataset_clean_balanced.csv’ saved [15312637/15312637]\n",
            "\n",
            "✅ Dataset loaded successfully!\n",
            "Shape: (208876, 2)\n",
            "Columns: ['url', 'type']\n",
            "                                                 url        type\n",
            "0                               http://kitegacc.net/    phishing\n",
            "1  https://www.electronichouse.com/article/ps3_ad...  legitimate\n",
            "2      https://www.linkedin.com/in/larrymartinkimpel  legitimate\n",
            "3  https://www.kansascity.com/2011/03/05/2700249/...  legitimate\n",
            "4        https://www.en.wikipedia.org/wiki/Dem_Bones  legitimate\n",
            "[LightGBM] [Info] Number of positive: 83550, number of negative: 83550\n",
            "[LightGBM] [Info] Auto-choosing col-wise multi-threading, the overhead of testing was 0.019527 seconds.\n",
            "You can set `force_col_wise=true` to remove the overhead.\n",
            "[LightGBM] [Info] Total Bins 585\n",
            "[LightGBM] [Info] Number of data points in the train set: 167100, number of used features: 7\n",
            "[LightGBM] [Info] [binary:BoostFromScore]: pavg=0.500000 -> initscore=0.000000\n",
            "Training until validation scores don't improve for 100 rounds\n",
            "Early stopping, best iteration is:\n",
            "[1155]\tvalid_0's binary_logloss: 0.0698111\n",
            "\n",
            "🎯 F1 Score: 0.9793874574623238\n",
            "\n",
            "Classification Report:\n",
            "               precision    recall  f1-score   support\n",
            "\n",
            "           0       0.97      0.99      0.98     20888\n",
            "           1       0.99      0.96      0.98     20888\n",
            "\n",
            "    accuracy                           0.98     41776\n",
            "   macro avg       0.98      0.98      0.98     41776\n",
            "weighted avg       0.98      0.98      0.98     41776\n",
            "\n"
          ]
        }
      ]
    }
  ]
}