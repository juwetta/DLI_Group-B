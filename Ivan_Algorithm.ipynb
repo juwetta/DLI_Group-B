{
  "nbformat": 4,
  "nbformat_minor": 0,
  "metadata": {
    "colab": {
      "provenance": [],
      "authorship_tag": "ABX9TyPNqktzUx0ZkZ0VLtMUAIlY",
      "include_colab_link": true
    },
    "kernelspec": {
      "name": "python3",
      "display_name": "Python 3"
    },
    "language_info": {
      "name": "python"
    }
  },
  "cells": [
    {
      "cell_type": "markdown",
      "metadata": {
        "id": "view-in-github",
        "colab_type": "text"
      },
      "source": [
        "<a href=\"https://colab.research.google.com/github/juwetta/DLI_Group-B/blob/main/Ivan_Algorithm.ipynb\" target=\"_parent\"><img src=\"https://colab.research.google.com/assets/colab-badge.svg\" alt=\"Open In Colab\"/></a>"
      ]
    },
    {
      "cell_type": "markdown",
      "source": [],
      "metadata": {
        "id": "P5XRfM4F-0kj"
      }
    },
    {
      "cell_type": "code",
      "execution_count": null,
      "metadata": {
        "colab": {
          "base_uri": "https://localhost:8080/"
        },
        "id": "yEugx0JX7aSE",
        "outputId": "cbd88f56-aa18-4d8c-fd26-903a126348cb"
      },
      "outputs": [
        {
          "output_type": "stream",
          "name": "stdout",
          "text": [
            "Drive already mounted at /content/gdrive; to attempt to forcibly remount, call drive.mount(\"/content/gdrive\", force_remount=True).\n"
          ]
        }
      ],
      "source": [
        "# Mount Google Drive\n",
        "from google.colab import drive\n",
        "drive.mount('/content/gdrive')\n",
        "\n",
        "# Change directory to the desired location in Google Drive\n",
        "import os\n",
        "os.chdir('/content/gdrive/MyDrive')"
      ]
    },
    {
      "cell_type": "code",
      "source": [
        "# =========================================================\n",
        "# STEP 1: Install Required Packages (uncomment if needed)\n",
        "# =========================================================\n",
        "!pip install lightgbm optuna scikit-learn pandas numpy seaborn matplotlib\n",
        "\n",
        "import time\n",
        "import numpy as np\n",
        "import pandas as pd\n",
        "import matplotlib.pyplot as plt\n",
        "import seaborn as sns\n",
        "\n",
        "from sklearn.model_selection import train_test_split\n",
        "from sklearn.feature_extraction.text import TfidfVectorizer\n",
        "from sklearn.metrics import (\n",
        "    accuracy_score, f1_score, roc_auc_score,\n",
        "    classification_report, confusion_matrix, precision_score, recall_score\n",
        ")\n",
        "from lightgbm import LGBMClassifier\n",
        "\n",
        "# =========================================================\n",
        "# STEP 2: Load Dataset\n",
        "# =========================================================\n",
        "DATA_URL = \"https://raw.githubusercontent.com/juwetta/DLI_Group-B/main/URL_dataset_clean_balanced.csv\"\n",
        "!wget -O URL_dataset_clean_balanced.csv \"$DATA_URL\"\n",
        "\n",
        "df = pd.read_csv(\"URL_dataset_clean_balanced.csv\")\n",
        "print(\"✅ Dataset loaded successfully!\")\n",
        "print(\"Shape:\", df.shape)\n",
        "print(\"Columns:\", df.columns.tolist())\n",
        "print(df.head())\n",
        "\n",
        "# =========================================================\n",
        "# STEP 3: Preprocess Data\n",
        "# =========================================================\n",
        "X = df[\"url\"]\n",
        "y = df[\"type\"].map({\"legitimate\": 0, \"phishing\": 1})  # Encode labels\n",
        "\n",
        "# Train-test split\n",
        "X_train, X_test, y_train, y_test = train_test_split(\n",
        "    X, y, test_size=0.2, random_state=42, stratify=y\n",
        ")\n",
        "\n",
        "# TF-IDF Vectorization\n",
        "vectorizer = TfidfVectorizer(max_features=10000)\n",
        "X_train_vec = vectorizer.fit_transform(X_train)\n",
        "X_test_vec = vectorizer.transform(X_test)\n",
        "\n",
        "# =========================================================\n",
        "# STEP 4: Train LightGBM Model\n",
        "# =========================================================\n",
        "model = LGBMClassifier(\n",
        "    n_estimators=300,\n",
        "    learning_rate=0.1,\n",
        "    max_depth=-1,\n",
        "    random_state=42,\n",
        "    n_jobs=-1\n",
        ")\n",
        "\n",
        "start_time = time.time()\n",
        "model.fit(X_train_vec, y_train)\n",
        "train_time = time.time() - start_time\n",
        "print(f\"⏱ Training completed in {train_time:.2f} seconds\")\n",
        "\n",
        "# =========================================================\n",
        "# STEP 5: Summary Table\n",
        "# =========================================================\n",
        "# Inference time per sample\n",
        "start_time = time.time()\n",
        "y_pred = model.predict(X_test_vec)\n",
        "inference_time = (time.time() - start_time) / len(X_test) * 1000  # ms/sample\n",
        "\n",
        "# Metrics\n",
        "accuracy = accuracy_score(y_test, y_pred)\n",
        "precision = precision_score(y_test, y_pred)\n",
        "recall = recall_score(y_test, y_pred)\n",
        "f1 = f1_score(y_test, y_pred)\n",
        "roc_auc = roc_auc_score(y_test, model.predict_proba(X_test_vec)[:, 1])\n",
        "\n",
        "# Classification Report\n",
        "def _ascii_table(headers, rows):\n",
        "    widths = [max(len(str(x)) for x in col) for col in zip(*([headers] + rows))]\n",
        "\n",
        "    def fmt(text, width, center=False):\n",
        "        text = str(text)\n",
        "        pad = width - len(text)\n",
        "        if center:\n",
        "            left = pad // 2\n",
        "            right = pad - left\n",
        "            return ' ' * (left + 1) + text + ' ' * (right + 1)\n",
        "        else:\n",
        "            return ' ' + text + ' ' * (pad + 1)\n",
        "\n",
        "    def line():\n",
        "        return '+' + '+'.join('-' * (w + 2) for w in widths) + '+'\n",
        "\n",
        "    out = [line(),\n",
        "           '|' + '|'.join(fmt(h, w, center=True) for h, w in zip(headers, widths)) + '|',\n",
        "           line()]\n",
        "    for r in rows:\n",
        "        out.append('|' + '|'.join(fmt(c, w, center=True) for c, w in zip(r, widths)) + '|')\n",
        "    out.append(line())\n",
        "    return '\\n'.join(out)\n",
        "\n",
        "# Build cells from your existing variables\n",
        "model_label = type(model).__name__\n",
        "trees = getattr(model, \"n_estimators\", None)\n",
        "max_depth = getattr(model, \"max_depth\", None)\n",
        "param_parts = []\n",
        "if trees is not None: param_parts.append(f\"trees={trees}\")\n",
        "if max_depth is not None: param_parts.append(f\"max_depth={max_depth}\")\n",
        "params_str = \", \".join(param_parts) if param_parts else \"—\"\n",
        "\n",
        "headers = [\"Model\", \"Accuracy\", \"Precision\", \"Recall\", \"F1 Score\", \"ROC-AUC\", \"Params\", \"Inference(ms)\"]\n",
        "row = [\n",
        "    model_label,\n",
        "    f\"{accuracy:.3f}\",\n",
        "    f\"{precision:.3f}\",\n",
        "    f\"{recall:.3f}\",\n",
        "    f\"{f1:.3f}\",\n",
        "    f\"{roc_auc:.3f}\",\n",
        "    params_str,\n",
        "    f\"{inference_time:.3f}\",\n",
        "]\n",
        "\n",
        "print(\"\\nClassification Report:\\n\")\n",
        "print(_ascii_table(headers, [row]))\n",
        "\n",
        "# Confusion Matrix\n",
        "plt.figure(figsize=(6, 5))\n",
        "cm = confusion_matrix(y_test, y_pred)\n",
        "sns.heatmap(cm, annot=True, fmt=\"d\", cmap=\"Blues\",\n",
        "            xticklabels=[\"Legitimate\", \"Phishing\"],\n",
        "            yticklabels=[\"Legitimate\", \"Phishing\"])\n",
        "plt.title(\"Confusion Matrix\")\n",
        "plt.ylabel(\"True Label\")\n",
        "plt.xlabel(\"Predicted Label\")\n",
        "plt.show()"
      ],
      "metadata": {
        "id": "ThSjdGjn-vH4",
        "colab": {
          "base_uri": "https://localhost:8080/",
          "height": 1000
        },
        "outputId": "4b50fde8-ddc4-4104-bc96-1cccea6ee484"
      },
      "execution_count": 4,
      "outputs": [
        {
          "output_type": "stream",
          "name": "stdout",
          "text": [
            "Requirement already satisfied: lightgbm in /usr/local/lib/python3.12/dist-packages (4.6.0)\n",
            "Requirement already satisfied: optuna in /usr/local/lib/python3.12/dist-packages (4.5.0)\n",
            "Requirement already satisfied: scikit-learn in /usr/local/lib/python3.12/dist-packages (1.6.1)\n",
            "Requirement already satisfied: pandas in /usr/local/lib/python3.12/dist-packages (2.2.2)\n",
            "Requirement already satisfied: numpy in /usr/local/lib/python3.12/dist-packages (2.0.2)\n",
            "Requirement already satisfied: seaborn in /usr/local/lib/python3.12/dist-packages (0.13.2)\n",
            "Requirement already satisfied: matplotlib in /usr/local/lib/python3.12/dist-packages (3.10.0)\n",
            "Requirement already satisfied: scipy in /usr/local/lib/python3.12/dist-packages (from lightgbm) (1.16.1)\n",
            "Requirement already satisfied: alembic>=1.5.0 in /usr/local/lib/python3.12/dist-packages (from optuna) (1.16.4)\n",
            "Requirement already satisfied: colorlog in /usr/local/lib/python3.12/dist-packages (from optuna) (6.9.0)\n",
            "Requirement already satisfied: packaging>=20.0 in /usr/local/lib/python3.12/dist-packages (from optuna) (25.0)\n",
            "Requirement already satisfied: sqlalchemy>=1.4.2 in /usr/local/lib/python3.12/dist-packages (from optuna) (2.0.43)\n",
            "Requirement already satisfied: tqdm in /usr/local/lib/python3.12/dist-packages (from optuna) (4.67.1)\n",
            "Requirement already satisfied: PyYAML in /usr/local/lib/python3.12/dist-packages (from optuna) (6.0.2)\n",
            "Requirement already satisfied: joblib>=1.2.0 in /usr/local/lib/python3.12/dist-packages (from scikit-learn) (1.5.1)\n",
            "Requirement already satisfied: threadpoolctl>=3.1.0 in /usr/local/lib/python3.12/dist-packages (from scikit-learn) (3.6.0)\n",
            "Requirement already satisfied: python-dateutil>=2.8.2 in /usr/local/lib/python3.12/dist-packages (from pandas) (2.9.0.post0)\n",
            "Requirement already satisfied: pytz>=2020.1 in /usr/local/lib/python3.12/dist-packages (from pandas) (2025.2)\n",
            "Requirement already satisfied: tzdata>=2022.7 in /usr/local/lib/python3.12/dist-packages (from pandas) (2025.2)\n",
            "Requirement already satisfied: contourpy>=1.0.1 in /usr/local/lib/python3.12/dist-packages (from matplotlib) (1.3.3)\n",
            "Requirement already satisfied: cycler>=0.10 in /usr/local/lib/python3.12/dist-packages (from matplotlib) (0.12.1)\n",
            "Requirement already satisfied: fonttools>=4.22.0 in /usr/local/lib/python3.12/dist-packages (from matplotlib) (4.59.1)\n",
            "Requirement already satisfied: kiwisolver>=1.3.1 in /usr/local/lib/python3.12/dist-packages (from matplotlib) (1.4.9)\n",
            "Requirement already satisfied: pillow>=8 in /usr/local/lib/python3.12/dist-packages (from matplotlib) (11.3.0)\n",
            "Requirement already satisfied: pyparsing>=2.3.1 in /usr/local/lib/python3.12/dist-packages (from matplotlib) (3.2.3)\n",
            "Requirement already satisfied: Mako in /usr/lib/python3/dist-packages (from alembic>=1.5.0->optuna) (1.1.3)\n",
            "Requirement already satisfied: typing-extensions>=4.12 in /usr/local/lib/python3.12/dist-packages (from alembic>=1.5.0->optuna) (4.14.1)\n",
            "Requirement already satisfied: six>=1.5 in /usr/local/lib/python3.12/dist-packages (from python-dateutil>=2.8.2->pandas) (1.17.0)\n",
            "Requirement already satisfied: greenlet>=1 in /usr/local/lib/python3.12/dist-packages (from sqlalchemy>=1.4.2->optuna) (3.2.4)\n",
            "--2025-08-22 09:47:45--  https://raw.githubusercontent.com/juwetta/DLI_Group-B/main/URL_dataset_clean_balanced.csv\n",
            "Resolving raw.githubusercontent.com (raw.githubusercontent.com)... 185.199.111.133, 185.199.108.133, 185.199.110.133, ...\n",
            "Connecting to raw.githubusercontent.com (raw.githubusercontent.com)|185.199.111.133|:443... connected.\n",
            "HTTP request sent, awaiting response... 200 OK\n",
            "Length: 15312637 (15M) [text/plain]\n",
            "Saving to: ‘URL_dataset_clean_balanced.csv’\n",
            "\n",
            "URL_dataset_clean_b 100%[===================>]  14.60M  --.-KB/s    in 0.1s    \n",
            "\n",
            "2025-08-22 09:47:46 (124 MB/s) - ‘URL_dataset_clean_balanced.csv’ saved [15312637/15312637]\n",
            "\n",
            "✅ Dataset loaded successfully!\n",
            "Shape: (208876, 2)\n",
            "Columns: ['url', 'type']\n",
            "                                                 url        type\n",
            "0                               http://kitegacc.net/    phishing\n",
            "1  https://www.electronichouse.com/article/ps3_ad...  legitimate\n",
            "2      https://www.linkedin.com/in/larrymartinkimpel  legitimate\n",
            "3  https://www.kansascity.com/2011/03/05/2700249/...  legitimate\n",
            "4        https://www.en.wikipedia.org/wiki/Dem_Bones  legitimate\n",
            "[LightGBM] [Info] Number of positive: 83550, number of negative: 83550\n",
            "[LightGBM] [Info] Auto-choosing row-wise multi-threading, the overhead of testing was 8.035012 seconds.\n",
            "You can set `force_row_wise=true` to remove the overhead.\n",
            "And if memory is not enough, you can set `force_col_wise=true`.\n",
            "[LightGBM] [Info] Total Bins 134122\n",
            "[LightGBM] [Info] Number of data points in the train set: 167100, number of used features: 4611\n",
            "[LightGBM] [Info] [binary:BoostFromScore]: pavg=0.500000 -> initscore=0.000000\n",
            "⏱ Training completed in 42.64 seconds\n"
          ]
        },
        {
          "output_type": "stream",
          "name": "stderr",
          "text": [
            "/usr/local/lib/python3.12/dist-packages/sklearn/utils/validation.py:2739: UserWarning: X does not have valid feature names, but LGBMClassifier was fitted with feature names\n",
            "  warnings.warn(\n",
            "/usr/local/lib/python3.12/dist-packages/sklearn/utils/validation.py:2739: UserWarning: X does not have valid feature names, but LGBMClassifier was fitted with feature names\n",
            "  warnings.warn(\n"
          ]
        },
        {
          "output_type": "stream",
          "name": "stdout",
          "text": [
            "\n",
            "Classification Report:\n",
            "\n",
            "+----------------+----------+-----------+--------+----------+---------+-------------------------+---------------+\n",
            "|     Model      | Accuracy | Precision | Recall | F1 Score | ROC-AUC |         Params          | Inference(ms) |\n",
            "+----------------+----------+-----------+--------+----------+---------+-------------------------+---------------+\n",
            "| LGBMClassifier |  0.997   |   0.999   | 0.996  |  0.997   |  0.999  | trees=300, max_depth=-1 |     0.028     |\n",
            "+----------------+----------+-----------+--------+----------+---------+-------------------------+---------------+\n"
          ]
        },
        {
          "output_type": "display_data",
          "data": {
            "text/plain": [
              "<Figure size 600x500 with 2 Axes>"
            ],
            "image/png": "[encoded data removed]"
          },
          "metadata": {}
        }
      ]
    }
  ]
}