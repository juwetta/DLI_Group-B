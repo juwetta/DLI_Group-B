{
  "nbformat": 4,
  "nbformat_minor": 0,
  "metadata": {
    "colab": {
      "provenance": [],
      "authorship_tag": "ABX9TyNQYKlPkD8huAzm6+0OUEVE",
      "include_colab_link": true
    },
    "kernelspec": {
      "name": "python3",
      "display_name": "Python 3"
    },
    "language_info": {
      "name": "python"
    }
  },
  "cells": [
    {
      "cell_type": "markdown",
      "metadata": {
        "id": "view-in-github",
        "colab_type": "text"
      },
      "source": [
        "<a href=\"https://colab.research.google.com/github/juwetta/DLI_Group-B/blob/main/Total_Row_of_Day-1-20.ipynb\" target=\"_parent\"><img src=\"https://colab.research.google.com/assets/colab-badge.svg\" alt=\"Open In Colab\"/></a>"
      ]
    },
    {
      "cell_type": "code",
      "execution_count": 1,
      "metadata": {
        "colab": {
          "base_uri": "https://localhost:8080/"
        },
        "id": "fN1pZ9qZy0TB",
        "outputId": "d08c39ee-d9ec-407e-c470-4e352a37d3d6"
      },
      "outputs": [
        {
          "output_type": "stream",
          "name": "stdout",
          "text": [
            "Drive already mounted at /content/drive; to attempt to forcibly remount, call drive.mount(\"/content/drive\", force_remount=True).\n"
          ]
        }
      ],
      "source": [
        "from google.colab import drive\n",
        "drive.mount('/content/drive')\n"
      ]
    },
    {
      "cell_type": "code",
      "source": [
        "!pip install -U --pre gdown\n",
        "!gdown --folder https://drive.google.com/drive/folders/1q_oDWHWzlR_LaYHw852ORqJTZ_0RL1Ee -O /content/url_dataset --folder\n"
      ],
      "metadata": {
        "colab": {
          "base_uri": "https://localhost:8080/"
        },
        "id": "bEraSZoLzE8J",
        "outputId": "75593336-f8eb-4dc7-fe64-d06a9863103e"
      },
      "execution_count": 2,
      "outputs": [
        {
          "output_type": "stream",
          "name": "stdout",
          "text": [
            "Requirement already satisfied: gdown in /usr/local/lib/python3.11/dist-packages (5.2.0)\n",
            "Requirement already satisfied: beautifulsoup4 in /usr/local/lib/python3.11/dist-packages (from gdown) (4.13.4)\n",
            "Requirement already satisfied: filelock in /usr/local/lib/python3.11/dist-packages (from gdown) (3.18.0)\n",
            "Requirement already satisfied: requests[socks] in /usr/local/lib/python3.11/dist-packages (from gdown) (2.32.3)\n",
            "Requirement already satisfied: tqdm in /usr/local/lib/python3.11/dist-packages (from gdown) (4.67.1)\n",
            "Requirement already satisfied: soupsieve>1.2 in /usr/local/lib/python3.11/dist-packages (from beautifulsoup4->gdown) (2.7)\n",
            "Requirement already satisfied: typing-extensions>=4.0.0 in /usr/local/lib/python3.11/dist-packages (from beautifulsoup4->gdown) (4.14.1)\n",
            "Requirement already satisfied: charset-normalizer<4,>=2 in /usr/local/lib/python3.11/dist-packages (from requests[socks]->gdown) (3.4.2)\n",
            "Requirement already satisfied: idna<4,>=2.5 in /usr/local/lib/python3.11/dist-packages (from requests[socks]->gdown) (3.10)\n",
            "Requirement already satisfied: urllib3<3,>=1.21.1 in /usr/local/lib/python3.11/dist-packages (from requests[socks]->gdown) (2.5.0)\n",
            "Requirement already satisfied: certifi>=2017.4.17 in /usr/local/lib/python3.11/dist-packages (from requests[socks]->gdown) (2025.7.14)\n",
            "Requirement already satisfied: PySocks!=1.5.7,>=1.5.6 in /usr/local/lib/python3.11/dist-packages (from requests[socks]->gdown) (1.7.1)\n",
            "Retrieving folder contents\n",
            "Processing file 1bJ2a_EWDdsYjfHifBElycVvpVj7rb4Sn Day0.svm\n",
            "Processing file 1XXrSPMxOuhWBy2kYBR4CmsZbhaULXFQC Day1.svm\n",
            "Processing file 1C8tv_y7gtFsOMV9xmwU8Pvq1nwV4oEKt Day2.svm\n",
            "Processing file 1aX7CIkuAl67MpFHMn_l8uuCs9YkQacEV Day3.svm\n",
            "Processing file 10SJH031eVzwMxUfTZ_Eb9rnk0_LmQ2Y2 Day4.svm\n",
            "Processing file 1lamBnFjlYYvYBu4Afvgj3uilsUtwnr1k Day5.svm\n",
            "Processing file 1YW9rKRQcI8nTHGr7kOlyaf77PpUdp09u Day6.svm\n",
            "Processing file 14TUPNZXJEui_J0FksHKlJTBCF2BeQzt- Day7.svm\n",
            "Processing file 1Lg3aa9evDg6gFRqjINkyktONpYfkESf3 Day8.svm\n",
            "Processing file 1-seliuAP__tsHpln7HN70zw8LTgXuLu6 Day9.svm\n",
            "Processing file 1i8M9cAcQsZY15wm5yRWz68j1zvoxqCWh Day10.svm\n",
            "Processing file 1JtpzwA5qsiPgrf-GsNrkvD02UoLv2_nb Day11.svm\n",
            "Processing file 1ypz0BLXd856vnHKyyuZQhdK2vB8eK4A- Day12.svm\n",
            "Processing file 19e4RYbHqfToZ-6sAFoHUXlcS8Vgq4aY7 Day13.svm\n",
            "Processing file 11VF3jDzci6FZFO_bgLoUTOuOInF3i7R- Day14.svm\n",
            "Processing file 13q89q0n0xjJL_-pW70EB90gdSllp12dI Day15.svm\n",
            "Processing file 18r8R4PFTjw04EX-CEre-XpzhcgLvKOPZ Day16.svm\n",
            "Processing file 1_3cshYMRNm4NAUC3M_b1CB0mlGZ3Buu9 Day17.svm\n",
            "Processing file 1dHapzAL71j4-zdJw9C8s4nzbzMb-6fy1 Day18.svm\n",
            "Processing file 19_rOgg204Yg7Vqw7io_Y_KUm7o4y104L Day19.svm\n",
            "Processing file 1hJyTPGv0GtYLP2unF6BXm1TNVMIDQoxN Day20.svm\n",
            "Retrieving folder contents completed\n",
            "Building directory structure\n",
            "Building directory structure completed\n",
            "Downloading...\n",
            "From: https://drive.google.com/uc?id=1bJ2a_EWDdsYjfHifBElycVvpVj7rb4Sn\n",
            "To: /content/url_dataset/Day0.svm\n",
            "100% 14.8M/14.8M [00:00<00:00, 50.5MB/s]\n",
            "Downloading...\n",
            "From: https://drive.google.com/uc?id=1XXrSPMxOuhWBy2kYBR4CmsZbhaULXFQC\n",
            "To: /content/url_dataset/Day1.svm\n",
            "100% 18.4M/18.4M [00:00<00:00, 214MB/s]\n",
            "Downloading...\n",
            "From: https://drive.google.com/uc?id=1C8tv_y7gtFsOMV9xmwU8Pvq1nwV4oEKt\n",
            "To: /content/url_dataset/Day2.svm\n",
            "100% 18.4M/18.4M [00:00<00:00, 189MB/s]\n",
            "Downloading...\n",
            "From: https://drive.google.com/uc?id=1aX7CIkuAl67MpFHMn_l8uuCs9YkQacEV\n",
            "To: /content/url_dataset/Day3.svm\n",
            "100% 18.4M/18.4M [00:00<00:00, 77.9MB/s]\n",
            "Downloading...\n",
            "From: https://drive.google.com/uc?id=10SJH031eVzwMxUfTZ_Eb9rnk0_LmQ2Y2\n",
            "To: /content/url_dataset/Day4.svm\n",
            "100% 18.4M/18.4M [00:00<00:00, 52.0MB/s]\n",
            "Downloading...\n",
            "From: https://drive.google.com/uc?id=1lamBnFjlYYvYBu4Afvgj3uilsUtwnr1k\n",
            "To: /content/url_dataset/Day5.svm\n",
            "100% 18.4M/18.4M [00:00<00:00, 31.5MB/s]\n",
            "Downloading...\n",
            "From: https://drive.google.com/uc?id=1YW9rKRQcI8nTHGr7kOlyaf77PpUdp09u\n",
            "To: /content/url_dataset/Day6.svm\n",
            "100% 18.6M/18.6M [00:00<00:00, 84.0MB/s]\n",
            "Downloading...\n",
            "From: https://drive.google.com/uc?id=14TUPNZXJEui_J0FksHKlJTBCF2BeQzt-\n",
            "To: /content/url_dataset/Day7.svm\n",
            "100% 18.8M/18.8M [00:00<00:00, 38.1MB/s]\n",
            "Downloading...\n",
            "From: https://drive.google.com/uc?id=1Lg3aa9evDg6gFRqjINkyktONpYfkESf3\n",
            "To: /content/url_dataset/Day8.svm\n",
            "100% 18.6M/18.6M [00:00<00:00, 87.9MB/s]\n",
            "Downloading...\n",
            "From: https://drive.google.com/uc?id=1-seliuAP__tsHpln7HN70zw8LTgXuLu6\n",
            "To: /content/url_dataset/Day9.svm\n",
            "100% 18.6M/18.6M [00:00<00:00, 52.5MB/s]\n",
            "Downloading...\n",
            "From: https://drive.google.com/uc?id=1i8M9cAcQsZY15wm5yRWz68j1zvoxqCWh\n",
            "To: /content/url_dataset/Day10.svm\n",
            "100% 18.5M/18.5M [00:00<00:00, 61.4MB/s]\n",
            "Downloading...\n",
            "From: https://drive.google.com/uc?id=1JtpzwA5qsiPgrf-GsNrkvD02UoLv2_nb\n",
            "To: /content/url_dataset/Day11.svm\n",
            "100% 18.5M/18.5M [00:00<00:00, 82.3MB/s]\n",
            "Downloading...\n",
            "From: https://drive.google.com/uc?id=1ypz0BLXd856vnHKyyuZQhdK2vB8eK4A-\n",
            "To: /content/url_dataset/Day12.svm\n",
            "100% 18.4M/18.4M [00:00<00:00, 109MB/s] \n",
            "Downloading...\n",
            "From: https://drive.google.com/uc?id=19e4RYbHqfToZ-6sAFoHUXlcS8Vgq4aY7\n",
            "To: /content/url_dataset/Day13.svm\n",
            "100% 18.1M/18.1M [00:00<00:00, 53.5MB/s]\n",
            "Downloading...\n",
            "From: https://drive.google.com/uc?id=11VF3jDzci6FZFO_bgLoUTOuOInF3i7R-\n",
            "To: /content/url_dataset/Day14.svm\n",
            "100% 18.2M/18.2M [00:00<00:00, 79.1MB/s]\n",
            "Downloading...\n",
            "From: https://drive.google.com/uc?id=13q89q0n0xjJL_-pW70EB90gdSllp12dI\n",
            "To: /content/url_dataset/Day15.svm\n",
            "100% 18.3M/18.3M [00:00<00:00, 142MB/s]\n",
            "Downloading...\n",
            "From: https://drive.google.com/uc?id=18r8R4PFTjw04EX-CEre-XpzhcgLvKOPZ\n",
            "To: /content/url_dataset/Day16.svm\n",
            "100% 18.4M/18.4M [00:00<00:00, 96.8MB/s]\n",
            "Failed to retrieve file url:\n",
            "\n",
            "\tCannot retrieve the public link of the file. You may need to change\n",
            "\tthe permission to 'Anyone with the link', or have had many accesses.\n",
            "\tCheck FAQ in https://github.com/wkentaro/gdown?tab=readme-ov-file#faq.\n",
            "\n",
            "You may still be able to access the file from the browser:\n",
            "\n",
            "\thttps://drive.google.com/uc?id=1_3cshYMRNm4NAUC3M_b1CB0mlGZ3Buu9\n",
            "\n",
            "but Gdown can't. Please check connections and permissions.\n"
          ]
        }
      ]
    },
    {
      "cell_type": "code",
      "source": [
        "# Step 2: Combine all .svm files into one file\n",
        "import os\n",
        "\n",
        "input_folder = '/content/url_dataset'\n",
        "output_file = '/content/combined_dataset.svm'\n",
        "total_rows = 0\n",
        "\n",
        "with open(output_file, 'w') as outfile:\n",
        "    for filename in sorted(os.listdir(input_folder)):\n",
        "        if filename.endswith('.svm'):\n",
        "            with open(os.path.join(input_folder, filename), 'r') as infile:\n",
        "                for line in infile:\n",
        "                    outfile.write(line)\n",
        "                    total_rows += 1\n",
        "\n",
        "print(f\"✅ Combined file created at: {output_file}\")\n",
        "print(f\"📊 Total number of rows: {total_rows}\")\n"
      ],
      "metadata": {
        "colab": {
          "base_uri": "https://localhost:8080/"
        },
        "id": "S8F2wDEDzIgi",
        "outputId": "642a3fc3-86dc-443c-dc39-588ffa28cbc0"
      },
      "execution_count": 3,
      "outputs": [
        {
          "output_type": "stream",
          "name": "stdout",
          "text": [
            "✅ Combined file created at: /content/combined_dataset.svm\n",
            "📊 Total number of rows: 416000\n"
          ]
        }
      ]
    },
    {
      "cell_type": "code",
      "source": [
        "# Step 3: Mount Google Drive to upload the file\n",
        "from google.colab import drive\n",
        "drive.mount('/content/drive')\n"
      ],
      "metadata": {
        "colab": {
          "base_uri": "https://localhost:8080/"
        },
        "id": "seEdVRsnzM8o",
        "outputId": "18e9cad4-6d18-4d70-bbfe-c52c052882d5"
      },
      "execution_count": 4,
      "outputs": [
        {
          "output_type": "stream",
          "name": "stdout",
          "text": [
            "Drive already mounted at /content/drive; to attempt to forcibly remount, call drive.mount(\"/content/drive\", force_remount=True).\n"
          ]
        }
      ]
    },
    {
      "cell_type": "code",
      "source": [
        "# Step 4: Save the combined file to your Google Drive\n",
        "import shutil\n",
        "\n",
        "drive_path = '/content/drive/MyDrive/combined_dataset.svm'\n",
        "shutil.copy(output_file, drive_path)\n",
        "\n",
        "print(f\"📁 Combined dataset uploaded to: {drive_path}\")\n"
      ],
      "metadata": {
        "colab": {
          "base_uri": "https://localhost:8080/"
        },
        "id": "4pvy5qit2bZe",
        "outputId": "46c206b5-ff66-4632-80c0-f815d3840146"
      },
      "execution_count": 5,
      "outputs": [
        {
          "output_type": "stream",
          "name": "stdout",
          "text": [
            "📁 Combined dataset uploaded to: /content/drive/MyDrive/combined_dataset.svm\n"
          ]
        }
      ]
    }
  ]
}