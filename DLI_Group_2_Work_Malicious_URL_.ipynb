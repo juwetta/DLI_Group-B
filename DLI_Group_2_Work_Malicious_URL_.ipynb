{
  "nbformat": 4,
  "nbformat_minor": 0,
  "metadata": {
    "colab": {
      "provenance": [],
      "include_colab_link": true
    },
    "kernelspec": {
      "name": "python3",
      "display_name": "Python 3"
    },
    "language_info": {
      "name": "python"
    }
  },
  "cells": [
    {
      "cell_type": "markdown",
      "metadata": {
        "id": "view-in-github",
        "colab_type": "text"
      },
      "source": [
        "<a href=\"https://colab.research.google.com/github/juwetta/DLI_Group-B/blob/main/DLI_Group_2_Work_Malicious_URL_.ipynb\" target=\"_parent\"><img src=\"https://colab.research.google.com/assets/colab-badge.svg\" alt=\"Open In Colab\"/></a>"
      ]
    },
    {
      "cell_type": "markdown",
      "source": [
        "#Mount Google Drive"
      ],
      "metadata": {
        "id": "Oa8V59xn94Xf"
      }
    },
    {
      "cell_type": "code",
      "execution_count": 2,
      "metadata": {
        "colab": {
          "base_uri": "https://localhost:8080/"
        },
        "id": "ODgUzXBv6dqr",
        "outputId": "244bed46-fec8-4db0-d2b7-c73b45d4532b"
      },
      "outputs": [
        {
          "output_type": "stream",
          "name": "stdout",
          "text": [
            "Mounted at /content/drive\n"
          ]
        }
      ],
      "source": [
        "from google.colab import drive\n",
        "drive.mount('/content/drive')"
      ]
    },
    {
      "cell_type": "markdown",
      "source": [
        "# Import Libraries"
      ],
      "metadata": {
        "id": "829bwlSbRrsD"
      }
    },
    {
      "cell_type": "code",
      "source": [
        "import numpy as np, pandas as pd\n",
        "from sklearn.model_selection import train_test_split\n",
        "from sklearn.feature_extraction.text import TfidfVectorizer\n",
        "from sklearn.decomposition import TruncatedSVD\n",
        "from sklearn.linear_model import LogisticRegression\n",
        "from sklearn.metrics import classification_report, f1_score, confusion_matrix\n",
        "import xgboost as xgb"
      ],
      "metadata": {
        "id": "QlfGIR-sRuys"
      },
      "execution_count": 3,
      "outputs": []
    },
    {
      "cell_type": "markdown",
      "source": [
        "# set paths"
      ],
      "metadata": {
        "id": "b6fnNHKw9-0x"
      }
    },
    {
      "cell_type": "code",
      "source": [
        "# Paths\n",
        "SRC = '/content/drive/MyDrive/DLI Group B/url_dataset/URL dataset.csv'\n",
        "OUT_DIR = '/content/drive/MyDrive/DLI Group B/url_dataset/clean_balanced'\n",
        "FINAL_CSV = f'{OUT_DIR}/URL_dataset_clean_balanced.csv'\n",
        "\n",
        "# Create output folder\n",
        "import os\n",
        "os.makedirs(OUT_DIR, exist_ok=True)\n"
      ],
      "metadata": {
        "id": "ge0rlt6b-HeB"
      },
      "execution_count": 5,
      "outputs": []
    },
    {
      "cell_type": "markdown",
      "source": [
        "#1) Load, clean, and deduplicate"
      ],
      "metadata": {
        "id": "OKTKnWGp-hSB"
      }
    },
    {
      "cell_type": "code",
      "source": [
        "import pandas as pd\n",
        "\n",
        "# Load\n",
        "df = pd.read_csv(SRC)\n",
        "\n",
        "#Convert datatype\n",
        "X_text = df['url'].astype(str)\n",
        "y      = df['type']\n",
        "\n",
        "# Clean: drop missing & exact duplicates\n",
        "df = df.dropna(subset=['url','type']).drop_duplicates().reset_index(drop=True)\n",
        "\n",
        "# Show cleaned stats\n",
        "print('After cleaning:', df.shape)\n",
        "print('Class counts (cleaned):\\n', df['type'].value_counts())\n",
        "\n",
        "# Find minority count (phishing ~104k in your data)\n",
        "minority_count = df['type'].value_counts().min()\n",
        "\n",
        "# Undersample each class to the minority count (no synthetic data)\n",
        "df_balanced = (\n",
        "    df.groupby('type', group_keys=False)\n",
        "      .apply(lambda x: x.sample(n=minority_count, random_state=42))\n",
        "      .sample(frac=1, random_state=42)   # shuffle\n",
        "      .reset_index(drop=True)\n",
        ")\n",
        "\n",
        "# Sanity checks\n",
        "print('\\nBalanced counts:\\n', df_balanced['type'].value_counts())\n",
        "print('Missing values:\\n', df_balanced.isnull().sum())\n",
        "print('Duplicate rows:', df_balanced.duplicated().sum())\n",
        "\n",
        "# Save final balanced & clean file\n",
        "df_balanced.to_csv(FINAL_CSV, index=False)\n",
        "print('\\nSaved ->', FINAL_CSV)\n"
      ],
      "metadata": {
        "colab": {
          "base_uri": "https://localhost:8080/"
        },
        "id": "94kjc3hsADe_",
        "outputId": "ba2ef090-05dd-483e-e483-198fb1ac6bf1"
      },
      "execution_count": null,
      "outputs": [
        {
          "output_type": "stream",
          "name": "stdout",
          "text": [
            "After cleaning: (450176, 2)\n",
            "Class counts (cleaned):\n",
            " type\n",
            "legitimate    345738\n",
            "phishing      104438\n",
            "Name: count, dtype: int64\n",
            "\n",
            "Balanced counts:\n",
            " type\n",
            "phishing      104438\n",
            "legitimate    104438\n",
            "Name: count, dtype: int64\n",
            "Missing values:\n",
            " url     0\n",
            "type    0\n",
            "dtype: int64\n"
          ]
        },
        {
          "output_type": "stream",
          "name": "stderr",
          "text": [
            "/tmp/ipython-input-412539766.py:23: DeprecationWarning: DataFrameGroupBy.apply operated on the grouping columns. This behavior is deprecated, and in a future version of pandas the grouping columns will be excluded from the operation. Either pass `include_groups=False` to exclude the groupings or explicitly select the grouping columns after groupby to silence this warning.\n",
            "  .apply(lambda x: x.sample(n=minority_count, random_state=42))\n"
          ]
        },
        {
          "output_type": "stream",
          "name": "stdout",
          "text": [
            "Duplicate rows: 0\n",
            "\n",
            "Saved -> /content/drive/MyDrive/DLI Group B/url_dataset/clean_balanced/URL_dataset_clean_balanced.csv\n"
          ]
        }
      ]
    },
    {
      "cell_type": "markdown",
      "source": [
        "# Make dataset memory friendly"
      ],
      "metadata": {
        "id": "5OIP4h44R78j"
      }
    },
    {
      "cell_type": "markdown",
      "source": [
        " Reloading cleaned and balanced dataset from google drive\n"
      ],
      "metadata": {
        "id": "7s7DHROiPpcF"
      }
    },
    {
      "cell_type": "code",
      "source": [
        "# DATA_URL = \"https://raw.githubusercontent.com/juwetta/DLI_Group-B/main/URL_dataset_clean_balanced.csv\"\n",
        "# !wget -O URL_dataset_clean_balanced.csv \"$DATA_URL\"\n",
        "\n",
        "# df = pd.read_csv(\"URL_dataset_clean_balanced.csv\")\n",
        "\n",
        "\n",
        "df = pd.read_csv(SRC)\n",
        "X_text = df['url'].astype(str)\n",
        "y      = df['type']           # strings: \"phishing\", \"legitimate"
      ],
      "metadata": {
        "id": "L7sUwwAfPvre"
      },
      "execution_count": 8,
      "outputs": []
    },
    {
      "cell_type": "markdown",
      "source": [
        "#2) Stratified train/val/test splits\n",
        "\n"
      ],
      "metadata": {
        "id": "3-BxToIeAfxs"
      }
    },
    {
      "cell_type": "code",
      "source": [
        "from sklearn.model_selection import train_test_split\n",
        "\n",
        "X_train_text, X_test_text, y_train, y_test = train_test_split(\n",
        "    X_text, y, test_size=0.2, stratify=y, random_state=42\n",
        ")\n",
        "print(len(X_train_text), len(X_test_text), y_train.value_counts().to_dict())\n",
        "\n",
        "# train_df, temp_df = train_test_split(\n",
        "#     df_balanced, test_size=0.30, stratify=df_balanced['type'], random_state=42\n",
        "# )\n",
        "# val_df, test_df = train_test_split(\n",
        "#     temp_df, test_size=0.50, stratify=temp_df['type'], random_state=42\n",
        "# )\n",
        "\n",
        "# print('Split sizes -> train/val/test:', len(train_df), len(val_df), len(test_df))\n",
        "# print('Train counts:\\n', train_df['type'].value_counts())\n",
        "# print('Val counts:\\n',   val_df['type'].value_counts())\n",
        "# print('Test counts:\\n',  test_df['type'].value_counts())\n",
        "\n",
        "# train_df.to_csv(f'{OUT_DIR}/URL_dataset_balanced_train.csv', index=False)\n",
        "# val_df.to_csv(f'{OUT_DIR}/URL_dataset_balanced_val.csv', index=False)\n",
        "# test_df.to_csv(f'{OUT_DIR}/URL_dataset_balanced_test.csv', index=False)\n",
        "# print('\\nSaved splits to:', OUT_DIR)\n"
      ],
      "metadata": {
        "colab": {
          "base_uri": "https://localhost:8080/"
        },
        "id": "mT0MoI6aViaj",
        "outputId": "9cbce20c-3e68-4c6c-dcee-38c34d4fc581"
      },
      "execution_count": 9,
      "outputs": [
        {
          "output_type": "stream",
          "name": "stdout",
          "text": [
            "360140 90036 {'legitimate': 276590, 'phishing': 83550}\n"
          ]
        }
      ]
    },
    {
      "cell_type": "markdown",
      "source": [
        "# Make dataset memory friendly"
      ],
      "metadata": {
        "id": "hpsWmMbKScir"
      }
    },
    {
      "cell_type": "code",
      "source": [
        "# Smaller TF-IDF to avoid RAM issues\n",
        "tfidf = TfidfVectorizer(\n",
        "    analyzer='char',\n",
        "    ngram_range=(3,4),\n",
        "    min_df=5,\n",
        "    max_features=10000,\n",
        "    dtype=np.float32\n",
        ")\n",
        "\n",
        "X_train_tfidf = tfidf.fit_transform(X_train_text)\n",
        "X_test_tfidf  = tfidf.transform(X_test_text)\n",
        "\n",
        "# Reduce to 200 dims (dense but tiny)\n",
        "svd = TruncatedSVD(n_components=200, random_state=42)\n",
        "X_train_200 = svd.fit_transform(X_train_tfidf)\n",
        "X_test_200  = svd.transform(X_test_tfidf)\n",
        "\n",
        "print(\"Shapes ->\", X_train_200.shape, X_test_200.shape)"
      ],
      "metadata": {
        "colab": {
          "base_uri": "https://localhost:8080/"
        },
        "id": "tQ-cHXIgSWR4",
        "outputId": "e9f2a5ce-85e2-45f8-aa79-0084c4516400"
      },
      "execution_count": 10,
      "outputs": [
        {
          "output_type": "stream",
          "name": "stdout",
          "text": [
            "Shapes -> (360140, 200) (90036, 200)\n"
          ]
        }
      ]
    },
    {
      "cell_type": "markdown",
      "source": [
        "# 3) Train Model: XGBoost (hist) on 200-D"
      ],
      "metadata": {
        "id": "rDXRDoYKQ3Wg"
      }
    },
    {
      "cell_type": "markdown",
      "source": [
        "3.1) Label Encoding"
      ],
      "metadata": {
        "id": "iz82pmvDRFXz"
      }
    },
    {
      "cell_type": "code",
      "source": [
        "from sklearn.preprocessing import LabelEncoder\n",
        "\n",
        "# y_train / y_test are strings -> encode to 0/1\n",
        "le = LabelEncoder()\n",
        "y_train_enc = le.fit_transform(y_train)   # e.g., legitimate->0, phishing->1\n",
        "y_test_enc  = le.transform(y_test)\n",
        "\n",
        "print(\"Classes mapping:\", dict(zip(le.classes_, le.transform(le.classes_))))"
      ],
      "metadata": {
        "colab": {
          "base_uri": "https://localhost:8080/"
        },
        "id": "rMuKXk6VMpf1",
        "outputId": "ce192ec1-baaf-47a4-eb88-378386d7458d"
      },
      "execution_count": 11,
      "outputs": [
        {
          "output_type": "stream",
          "name": "stdout",
          "text": [
            "Classes mapping: {'legitimate': np.int64(0), 'phishing': np.int64(1)}\n"
          ]
        }
      ]
    },
    {
      "cell_type": "code",
      "source": [
        "# ---- XGBoost fit ----\n",
        "xgb_model = xgb.XGBClassifier(\n",
        "    n_estimators=250,\n",
        "    learning_rate=0.08,\n",
        "    max_depth=7,\n",
        "    subsample=0.9,\n",
        "    colsample_bytree=0.9,\n",
        "    tree_method='hist',\n",
        "    random_state=42,\n",
        "    eval_metric='logloss'\n",
        ")\n",
        "\n",
        "xgb_model.fit(X_train_200, y_train_enc)\n",
        "\n",
        "# Default-threshold predictions (0/1)\n",
        "y_pred_enc = xgb_model.predict(X_test_200)\n",
        "\n",
        "# OPTIONAL: map back to strings for reports\n",
        "y_pred = le.inverse_transform(y_pred_enc)"
      ],
      "metadata": {
        "id": "ViXP3Y6KRQBu"
      },
      "execution_count": 12,
      "outputs": []
    },
    {
      "cell_type": "markdown",
      "source": [
        "# 4) Evaluate Model"
      ],
      "metadata": {
        "id": "NasVfiCNTH5j"
      }
    },
    {
      "cell_type": "code",
      "source": [
        "import numpy as np\n",
        "from sklearn.metrics import f1_score\n",
        "\n",
        "proba = xgb_model.predict_proba(X_test_200)[:, 1]   # P(class=1)\n",
        "phish_id = le.transform(['phishing'])[0]\n",
        "\n",
        "best_f1, best_t = 0, 0.5\n",
        "for t in np.arange(0.30, 0.71, 0.01):\n",
        "    y_pred_t = (proba >= t).astype(int)\n",
        "    f1 = f1_score(y_test_enc, y_pred_t, pos_label=phish_id)\n",
        "    if f1 > best_f1:\n",
        "        best_f1, best_t = f1, t\n",
        "\n",
        "print(f\"Best F1={best_f1:.4f} at threshold={best_t:.2f}\")\n",
        "\n",
        "# If you want the string labels for that best threshold:\n",
        "y_pred_best = le.inverse_transform((proba >= best_t).astype(int))\n",
        "print(classification_report(y_test, y_pred_best, digits=3))"
      ],
      "metadata": {
        "colab": {
          "base_uri": "https://localhost:8080/"
        },
        "id": "2bkQJ0cbTbhY",
        "outputId": "c9a55966-d6db-4975-9286-f8872d94a776"
      },
      "execution_count": 13,
      "outputs": [
        {
          "output_type": "stream",
          "name": "stdout",
          "text": [
            "Best F1=0.9944 at threshold=0.30\n",
            "              precision    recall  f1-score   support\n",
            "\n",
            "  legitimate      0.998     0.999     0.998     69148\n",
            "    phishing      0.996     0.993     0.994     20888\n",
            "\n",
            "    accuracy                          0.997     90036\n",
            "   macro avg      0.997     0.996     0.996     90036\n",
            "weighted avg      0.997     0.997     0.997     90036\n",
            "\n"
          ]
        }
      ]
    },
    {
      "cell_type": "code",
      "source": [
        "try:\n",
        "    X_TR, X_TE = X_train_200, X_test_200\n",
        "except NameError:\n",
        "    X_TR, X_TE = X_train, X_test\n",
        "\n",
        "# Targets\n",
        "y_TR, y_TE = y_train, y_test"
      ],
      "metadata": {
        "id": "i24O6jSsyuaK"
      },
      "execution_count": 14,
      "outputs": []
    },
    {
      "cell_type": "code",
      "source": [
        "import time, pandas as pd, matplotlib.pyplot as plt, seaborn as sns\n",
        "from tabulate import tabulate\n",
        "from sklearn.metrics import (\n",
        "    accuracy_score, precision_score, recall_score, f1_score,\n",
        "    roc_auc_score, confusion_matrix\n",
        ")\n",
        "\n",
        "# Helper: convert labels to ints; also return pretty axis names\n",
        "def to_int_and_names(y, positive_label=\"phishing\"):\n",
        "    y = np.asarray(y)\n",
        "    if y.dtype.kind in \"OUS\":        # string/object labels\n",
        "        y_int = (y == positive_label).astype(int)\n",
        "        names = (\"Legitimate\", \"Phishing\")\n",
        "    else:                            # numeric 0/1\n",
        "        y_int = y.astype(int)\n",
        "        names = (\"Class 0\", \"Class 1\")\n",
        "    return y_int, names\n",
        "\n",
        "# Inference & predictions\n",
        "t0 = time.time()\n",
        "y_pred = xgb_model.predict(X_TE)\n",
        "t1 = time.time()\n",
        "inference_ms = (t1 - t0) / len(y_TE) * 1000\n",
        "\n",
        "# Normalize labels/preds to ints for metrics, and get axis names\n",
        "y_true_int, axis_names = to_int_and_names(y_TE)\n",
        "if np.asarray(y_pred).dtype.kind in \"OUS\":\n",
        "    y_pred_int, _ = to_int_and_names(y_pred)\n",
        "else:\n",
        "    y_pred_int = np.asarray(y_pred).astype(int)\n",
        "\n",
        "# Metrics (percent)\n",
        "acc  = accuracy_score(y_true_int, y_pred_int) * 100\n",
        "prec = precision_score(y_true_int, y_pred_int, zero_division=0) * 100\n",
        "rec  = recall_score(y_true_int, y_pred_int, zero_division=0) * 100\n",
        "f1   = f1_score(y_true_int, y_pred_int, zero_division=0) * 100\n",
        "\n",
        "# ROC-AUC (if predict_proba available)\n",
        "try:\n",
        "    y_prob = xgb_model.predict_proba(X_TE)[:, 1]\n",
        "    roc_auc = roc_auc_score(y_true_int, y_prob) * 100\n",
        "    roc_str = f\"{roc_auc:.3f}\"\n",
        "except Exception:\n",
        "    roc_str = \"N/A\"\n",
        "\n",
        "# Build & print ASCII table\n",
        "results = pd.DataFrame([{\n",
        "    \"Model\": type(xgb_model).__name__,\n",
        "    \"Accuracy\": f\"{acc:.3f}\",\n",
        "    \"Precision\": f\"{prec:.3f}\",\n",
        "    \"Recall\": f\"{rec:.3f}\",\n",
        "    \"F1 Score\": f\"{f1:.3f}\",\n",
        "    \"ROC-AUC\": roc_str,\n",
        "    \"Params\": f\"trees={xgb_model.n_estimators}, max_depth={xgb_model.max_depth}\",\n",
        "    \"Inference(ms)\": f\"{inference_ms:.3f}\"\n",
        "}])\n",
        "print(tabulate(results, headers=\"keys\", tablefmt=\"grid\", showindex=False))\n",
        "\n",
        "# Confusion Matrix (and save)\n",
        "cm = confusion_matrix(y_true_int, y_pred_int, labels=[0, 1])\n",
        "plt.figure(figsize=(6,5))\n",
        "sns.heatmap(cm, annot=True, fmt=\"d\", cmap=\"Blues\",\n",
        "            xticklabels=[axis_names[0], axis_names[1]],\n",
        "            yticklabels=[axis_names[0], axis_names[1]])\n",
        "plt.xlabel(\"Predicted Label\")\n",
        "plt.ylabel(\"True Label\")\n",
        "plt.title(\"Confusion Matrix\")\n",
        "plt.tight_layout()\n",
        "plt.savefig(\"confusion_matrix.png\", dpi=150)\n",
        "plt.show()"
      ],
      "metadata": {
        "colab": {
          "base_uri": "https://localhost:8080/",
          "height": 598
        },
        "id": "jjSBVnk3TeG-",
        "outputId": "cdb2e33e-e24d-49aa-d1ec-058b7c958dad"
      },
      "execution_count": 15,
      "outputs": [
        {
          "output_type": "stream",
          "name": "stdout",
          "text": [
            "+---------------+------------+-------------+----------+------------+-----------+------------------------+-----------------+\n",
            "| Model         |   Accuracy |   Precision |   Recall |   F1 Score |   ROC-AUC | Params                 |   Inference(ms) |\n",
            "+===============+============+=============+==========+============+===========+========================+=================+\n",
            "| XGBClassifier |     99.731 |      99.682 |   99.157 |     99.419 |     99.95 | trees=250, max_depth=7 |           0.011 |\n",
            "+---------------+------------+-------------+----------+------------+-----------+------------------------+-----------------+\n"
          ]
        },
        {
          "output_type": "display_data",
          "data": {
            "text/plain": [
              "<Figure size 600x500 with 2 Axes>"
            ],
            "image/png": "[encoded data removed]"
          },
          "metadata": {}
        }
      ]
    },
    {
      "cell_type": "code",
      "metadata": {
        "colab": {
          "base_uri": "https://localhost:8080/",
          "height": 564
        },
        "id": "ed815ef0",
        "outputId": "31323d42-47f7-414f-f77c-2fb945950673"
      },
      "source": [
        "#Insert ROC Curve(and save)\n",
        "from sklearn.metrics import roc_curve, auc\n",
        "import matplotlib.pyplot as plt\n",
        "\n",
        "# Calculate ROC curve and AUC\n",
        "fpr, tpr, thresholds = roc_curve(y_true_int, y_prob)\n",
        "roc_auc = auc(fpr, tpr)\n",
        "\n",
        "# Plot ROC curve\n",
        "plt.figure(figsize=(8, 6))\n",
        "plt.plot(fpr, tpr, color='darkorange', lw=2, label=f'ROC curve (AUC = {roc_auc:.2f})')\n",
        "plt.plot([0, 1], [0, 1], color='navy', lw=2, linestyle='--')\n",
        "plt.xlim([0.0, 1.0])\n",
        "plt.ylim([0.0, 1.05])\n",
        "plt.xlabel('False Positive Rate')\n",
        "plt.ylabel('True Positive Rate')\n",
        "plt.title('Receiver Operating Characteristic (ROC) Curve')\n",
        "plt.legend(loc=\"lower right\")\n",
        "plt.show()"
      ],
      "execution_count": 16,
      "outputs": [
        {
          "output_type": "display_data",
          "data": {
            "text/plain": [
              "<Figure size 800x600 with 1 Axes>"
            ],
            "image/png": "[encoded data removed]"
          },
          "metadata": {}
        }
      ]
    }
  ]
}